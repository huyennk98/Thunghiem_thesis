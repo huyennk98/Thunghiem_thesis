{
  "nbformat": 4,
  "nbformat_minor": 0,
  "metadata": {
    "colab": {
      "provenance": []
    },
    "kernelspec": {
      "name": "python3",
      "display_name": "Python 3"
    },
    "language_info": {
      "name": "python"
    }
  },
  "cells": [
    {
      "cell_type": "code",
      "execution_count": null,
      "metadata": {
        "id": "o0BNQU8j4pTt"
      },
      "outputs": [],
      "source": [
        "\n",
        "import math  \n",
        "import numpy as np   \n",
        "import random  as rd\n",
        "import matplotlib.pyplot as plt  \n",
        "from matplotlib import colors\n",
        "import numba  \n",
        "from numba import njit  \n",
        "import time  \n",
        "from matplotlib.pyplot import figure\n",
        "\n",
        "from numba.typed import List   \n",
        "from collections import defaultdict   \n",
        "import random as rd\n",
        "\n",
        "from scipy.sparse import csr_matrix\n",
        "from scipy import linalg\n"
      ]
    },
    {
      "cell_type": "code",
      "source": [
        "n1=200\n",
        "n2=300\n",
        "r=10\n",
        "ratio = 0.3\n",
        "def  create_fake_data():\n",
        "    K= np.random.rand(n1, r)\n",
        "    L= np.random.rand(r, n2)\n",
        "    return K@L\n",
        "M = create_fake_data()\n",
        "# Omega  =  [ ]\n",
        "p = round(n1*n2*ratio)\n",
        "# for i in range(p):\n",
        "#     Omega.append( [ rd.randint (0, n1-1),rd.randint (0, n2-1) ])\n",
        "# Omega =  np.array (Omega, np.int_)\n",
        "\n",
        "def get_m_random_index_of_matrix(n_1, n_2, m):\n",
        "    return rd.sample([(i, j) for i in range(n_1) for j in range(n_2)], m)\n",
        "Omega = np.array(get_m_random_index_of_matrix(n1, n2, p))\n",
        "\n",
        "b = np.empty( (p), np.float_)\n",
        "for i in range(p):\n",
        "    b[i] = M[Omega[i,0], Omega[i,1]]"
      ],
      "metadata": {
        "id": "wWn7wTj6r-d4"
      },
      "execution_count": null,
      "outputs": []
    },
    {
      "cell_type": "code",
      "source": [
        "max(M.flatten())"
      ],
      "metadata": {
        "colab": {
          "base_uri": "https://localhost:8080/"
        },
        "id": "bcOssEqu4-lu",
        "outputId": "833f0b98-cedc-4159-92d5-09e8e9a3ce64"
      },
      "execution_count": null,
      "outputs": [
        {
          "output_type": "execute_result",
          "data": {
            "text/plain": [
              "5.374759519858291"
            ]
          },
          "metadata": {},
          "execution_count": 110
        }
      ]
    },
    {
      "cell_type": "code",
      "source": [
        "index = [  o[0]*n2+ o[1] for o in Omega]\n",
        "index\n",
        "A= csr_matrix(([1]*p, (range(p),index)), shape=(p, n1*n2)  )\n",
        "A_T=  A.T"
      ],
      "metadata": {
        "id": "GfVfohuir-gY"
      },
      "execution_count": null,
      "outputs": []
    },
    {
      "cell_type": "code",
      "source": [
        "A.shape"
      ],
      "metadata": {
        "colab": {
          "base_uri": "https://localhost:8080/"
        },
        "id": "Fiht-b_4wjnX",
        "outputId": "83baa2a1-37b1-4484-8dfa-dea5142c1b26"
      },
      "execution_count": null,
      "outputs": [
        {
          "output_type": "execute_result",
          "data": {
            "text/plain": [
              "(18000, 60000)"
            ]
          },
          "metadata": {},
          "execution_count": 95
        }
      ]
    },
    {
      "cell_type": "code",
      "source": [
        "A_T.shape"
      ],
      "metadata": {
        "colab": {
          "base_uri": "https://localhost:8080/"
        },
        "id": "6fNYISgewmMG",
        "outputId": "0ae07b59-f474-4b56-d970-ae59b426b59b"
      },
      "execution_count": null,
      "outputs": [
        {
          "output_type": "execute_result",
          "data": {
            "text/plain": [
              "(60000, 18000)"
            ]
          },
          "metadata": {},
          "execution_count": 96
        }
      ]
    },
    {
      "cell_type": "code",
      "source": [],
      "metadata": {
        "id": "rn5uCDKZbJNk"
      },
      "execution_count": null,
      "outputs": []
    },
    {
      "cell_type": "code",
      "source": [
        "AA_T =A@A_T\n",
        "A_TA =A_T@A\n",
        "A_Tb  =  A_T@b\n",
        "mu0= np.linalg.norm(A_Tb)"
      ],
      "metadata": {
        "id": "l7IT2yG4sDQH"
      },
      "execution_count": null,
      "outputs": []
    },
    {
      "cell_type": "code",
      "source": [
        "A_Tb.shape"
      ],
      "metadata": {
        "colab": {
          "base_uri": "https://localhost:8080/"
        },
        "id": "7iHCyss4xD_t",
        "outputId": "cde8d001-5d79-4290-df6b-1cec5ede7a7d"
      },
      "execution_count": null,
      "outputs": [
        {
          "output_type": "execute_result",
          "data": {
            "text/plain": [
              "(60000,)"
            ]
          },
          "metadata": {},
          "execution_count": 98
        }
      ]
    },
    {
      "cell_type": "code",
      "source": [
        "# X = A_Tb.reshape(n1,n2)\n",
        "# a = np.linalg.matrix_rank(X)\n",
        "# a"
      ],
      "metadata": {
        "id": "Fo_Dn44_bMjT"
      },
      "execution_count": null,
      "outputs": []
    },
    {
      "cell_type": "code",
      "source": [],
      "metadata": {
        "id": "srOSzeZpclhU"
      },
      "execution_count": null,
      "outputs": []
    },
    {
      "cell_type": "code",
      "source": [
        "def vec_to_mat_X(X):\n",
        "    return np.reshape(X, (n1, n2))"
      ],
      "metadata": {
        "id": "XQrZUjAKsFx-"
      },
      "execution_count": null,
      "outputs": []
    },
    {
      "cell_type": "code",
      "source": [
        "z=np.random.rand ( (n1*n2))\n",
        "def nablaf_2(z):\n",
        "    return A_TA@z- A_Tb\n",
        "def compute_y_n( z, beta):\n",
        "    return z-(1/beta)*nablaf_2(z)\n",
        "nablaf_2(z)"
      ],
      "metadata": {
        "colab": {
          "base_uri": "https://localhost:8080/"
        },
        "id": "CsLJXsVtsJhW",
        "outputId": "660f179a-cd73-408e-98df-b18a845899e8"
      },
      "execution_count": null,
      "outputs": [
        {
          "output_type": "execute_result",
          "data": {
            "text/plain": [
              "array([ 0.        ,  0.        ,  0.        , ...,  0.        ,\n",
              "       -1.07956155, -1.97841012])"
            ]
          },
          "metadata": {},
          "execution_count": 116
        }
      ]
    },
    {
      "cell_type": "code",
      "source": [
        "z  "
      ],
      "metadata": {
        "colab": {
          "base_uri": "https://localhost:8080/"
        },
        "id": "pXOH1Plti06P",
        "outputId": "acfb828b-7b24-4b40-a4f1-78894a3fc2f3"
      },
      "execution_count": null,
      "outputs": [
        {
          "output_type": "execute_result",
          "data": {
            "text/plain": [
              "array([0.14675457, 0.03167748, 0.21473701, ..., 0.85583502, 0.7224015 ,\n",
              "       0.89707988])"
            ]
          },
          "metadata": {},
          "execution_count": 102
        }
      ]
    },
    {
      "cell_type": "code",
      "source": [
        "def proximal(Z, l_k,mu):\n",
        "    tau = mu/l_k\n",
        "    Z = np.reshape(Z, (n1, n2))\n",
        "    U,Sigma,V = linalg.svd(Z)\n",
        "    print(\"Sigma\",Sigma)\n",
        "    plt.scatter(Sigma,[1]*len(Sigma), c=\"blue\")\n",
        "    plt.show()\n",
        "\n",
        "    full_sigma  = np.zeros( (n1,n2), np.float_)\n",
        "\n",
        "    for i in range(len(Sigma)):\n",
        "        if Sigma[i]>tau:\n",
        "            full_sigma[i][i] = Sigma[i]-tau\n",
        "\n",
        "    print(\"full_sigma\",full_sigma.flatten())\n",
        "    \n",
        "    plt.scatter(full_sigma.flatten(), [1]*len(full_sigma.flatten()),c =\"red\")\n",
        "    plt.show()\n",
        "    return ((U@full_sigma)@V).flatten()"
      ],
      "metadata": {
        "id": "FUSqd6AwsTHP"
      },
      "execution_count": null,
      "outputs": []
    },
    {
      "cell_type": "code",
      "source": [],
      "metadata": {
        "id": "1jbXSxfCioo9"
      },
      "execution_count": null,
      "outputs": []
    },
    {
      "cell_type": "code",
      "source": [
        "\n"
      ],
      "metadata": {
        "id": "o1mCA-LBxnSd"
      },
      "execution_count": null,
      "outputs": []
    },
    {
      "cell_type": "code",
      "source": [],
      "metadata": {
        "id": "e2LZMZJhimxG"
      },
      "execution_count": null,
      "outputs": []
    },
    {
      "cell_type": "code",
      "source": [
        "z.shape"
      ],
      "metadata": {
        "colab": {
          "base_uri": "https://localhost:8080/"
        },
        "id": "HTYtIXdFynse",
        "outputId": "4a26de75-c862-4075-97f0-2c4a738cc358"
      },
      "execution_count": null,
      "outputs": [
        {
          "output_type": "execute_result",
          "data": {
            "text/plain": [
              "(60000,)"
            ]
          },
          "metadata": {},
          "execution_count": 104
        }
      ]
    },
    {
      "cell_type": "code",
      "source": [
        "def main_loop(z, beta=1, mu=0.0001*mu0, loop_size=1000):\n",
        "    t=np.zeros( (loop_size), np.float_)\n",
        "    t[0]=1\n",
        "    \n",
        "    Xold = proximal(z, beta,mu)\n",
        "    X = Xold\n",
        " \n",
        "    mu1 = mu0\n",
        "    for n in range(loop_size-1):\n",
        "\n",
        "        t[n+1]= (math.sqrt(4*t[n]*t[n]+1)+1)/2\n",
        "        \n",
        "        lambda_loop = (t[n]-1)/t[n+1]\n",
        "\n",
        "        mu1= max(mu1*0.7, mu)\n",
        "        \n",
        "        Y = X+ lambda_loop*(X-Xold)\n",
        "\n",
        "        Xold = X\n",
        "\n",
        "        Z = Y - (1/beta)*nablaf_2(Y)\n",
        "        \n",
        "        X = proximal(Z, beta,mu1)\n",
        "        \n",
        "        print(n,\"error\",np.linalg.norm(vec_to_mat_X(X)-M)/ np.linalg.norm(M))\n",
        "\n",
        "        stop_condition = abs(np.linalg.norm(A@ X - b ) - np.linalg.norm(A @ Xold -b)) / (max(1, np.linalg.norm(b)))\n",
        "        print(stop_condition)\n",
        "        if abs(np.linalg.norm(A@ X - b ) - np.linalg.norm(A @ Xold -b)) / max(1, np.linalg.norm(b)) < 5e-6:\n",
        "            print(\"sovonglap:\",n)\n",
        "            break\n",
        "\n",
        "    return X"
      ],
      "metadata": {
        "id": "jNCF9dB9sNuG"
      },
      "execution_count": null,
      "outputs": []
    },
    {
      "cell_type": "code",
      "source": [
        "z=np.random.rand ( (n1*n2))\n",
        "time1=time.time()\n",
        "X_new = main_loop(z, beta=1, mu=0.0001*mu0, loop_size=20)\n",
        "print(time.time() - time1 )"
      ],
      "metadata": {
        "colab": {
          "base_uri": "https://localhost:8080/",
          "height": 1000
        },
        "id": "YYFQYYkdsNwt",
        "outputId": "a6e16caa-2658-4a0c-c71a-a8c8ca8fc94c"
      },
      "execution_count": null,
      "outputs": [
        {
          "output_type": "stream",
          "name": "stdout",
          "text": [
            "Sigma [122.55576857   8.7942       8.73331305   8.65566475   8.59856231\n",
            "   8.54325686   8.47134605   8.39083945   8.25593122   8.21420161\n",
            "   8.11766594   8.10849283   8.04614681   7.97266615   7.83579997\n",
            "   7.79867491   7.75039103   7.72881027   7.65305256   7.57049055\n",
            "   7.47998793   7.4753622    7.42911729   7.39582352   7.33314492\n",
            "   7.30274622   7.27117661   7.20991654   7.1761691    7.12798127\n",
            "   7.07177734   7.03837373   6.97800046   6.89388307   6.85686842\n",
            "   6.82417229   6.80749298   6.77476899   6.73012257   6.70212419\n",
            "   6.67519295   6.59724627   6.58895839   6.47169951   6.42593791\n",
            "   6.40648039   6.38868589   6.34873004   6.3122729    6.27790341\n",
            "   6.24626704   6.21170081   6.16904162   6.1192415    6.07452718\n",
            "   6.03131426   6.02538987   5.93738962   5.88667622   5.87603429\n",
            "   5.82878286   5.76441984   5.72914527   5.69503298   5.65985262\n",
            "   5.59426776   5.56761245   5.55819824   5.47741483   5.4319715\n",
            "   5.40767504   5.38220926   5.35660054   5.2985452    5.26582413\n",
            "   5.21722315   5.20838745   5.16416101   5.11362324   5.08310284\n",
            "   5.06164365   5.04530371   5.02051243   4.95067974   4.93773503\n",
            "   4.90285448   4.87849327   4.81771212   4.80560143   4.78386268\n",
            "   4.76175107   4.72608552   4.69307887   4.64005976   4.61491838\n",
            "   4.5747088    4.55429039   4.53077245   4.45438803   4.44059587\n",
            "   4.41823463   4.39392906   4.34018492   4.29618268   4.27238187\n",
            "   4.20901135   4.1889084    4.1681434    4.12075071   4.10871018\n",
            "   4.04482877   4.01378625   3.98807123   3.96152795   3.86969535\n",
            "   3.85579463   3.83899989   3.82262448   3.77813448   3.73997333\n",
            "   3.72636978   3.6798825    3.64044602   3.62418093   3.58769338\n",
            "   3.56422649   3.50803925   3.50295305   3.43930258   3.40407416\n",
            "   3.3814744    3.34574944   3.33734549   3.29786294   3.27635484\n",
            "   3.25873037   3.20949143   3.19102702   3.1627925    3.1109714\n",
            "   3.10757289   3.05188502   3.03112431   2.98997348   2.97677513\n",
            "   2.95810075   2.89890502   2.86222694   2.85755459   2.8116713\n",
            "   2.75668389   2.72971938   2.67696385   2.66675674   2.61808277\n",
            "   2.61675046   2.58621719   2.53830784   2.50424116   2.49354328\n",
            "   2.46706994   2.4404362    2.38836736   2.36069904   2.27710354\n",
            "   2.27464089   2.26330247   2.22699338   2.19120714   2.16437953\n",
            "   2.13690599   2.11963653   2.09333919   2.01875744   1.96633286\n",
            "   1.91166052   1.89870448   1.8495751    1.83251104   1.78270504\n",
            "   1.74002614   1.72635682   1.66213408   1.63446323   1.61970884\n",
            "   1.59245212   1.56454805   1.5426112    1.5009011    1.45848898\n",
            "   1.39171882   1.35335099   1.3039983    1.26687862   1.2513392\n",
            "   1.1983103    1.14707482   1.12553149   1.0905627    1.01270862]\n"
          ]
        },
        {
          "output_type": "display_data",
          "data": {
            "text/plain": [
              "<Figure size 432x288 with 1 Axes>"
            ],
            "image/png": "[encoded data removed]"
          },
          "metadata": {
            "needs_background": "light"
          }
        },
        {
          "output_type": "stream",
          "name": "stdout",
          "text": [
            "full_sigma [122.52106213   0.           0.         ...   0.           0.\n",
            "   0.        ]\n"
          ]
        },
        {
          "output_type": "display_data",
          "data": {
            "text/plain": [
              "<Figure size 432x288 with 1 Axes>"
            ],
            "image/png": "[encoded data removed]"
          },
          "metadata": {
            "needs_background": "light"
          }
        },
        {
          "output_type": "stream",
          "name": "stdout",
          "text": [
            "Sigma [273.8493783   34.14141151  33.90767591  33.62460071  32.88030496\n",
            "  32.19071142  31.70676963  31.31820712  30.62934817  30.58071641\n",
            "  30.49319643  29.90069613  29.61195238  28.97423058  28.75634961\n",
            "  28.47007925  28.19292593  27.99546195  27.8315847   27.5911551\n",
            "  27.36330128  27.14488022  26.60394757  26.53843602  26.47730279\n",
            "  25.9750564   25.94083195  25.63146659  25.49714891  25.28920955\n",
            "  25.18601705  24.69022725  24.5093116   24.39385449  24.30020915\n",
            "  23.93076189  23.85526834  23.49026643  23.41801643  23.34474165\n",
            "  23.14442848  22.93417584  22.80695882  22.63431853  22.49151033\n",
            "  22.32908891  22.09500044  21.97111764  21.71681298  21.63488386\n",
            "  21.47812879  21.20696099  21.09663554  20.85783132  20.76346538\n",
            "  20.46859978  20.38358569  20.22288945  20.05838008  19.91293952\n",
            "  19.77337924  19.68639948  19.59850958  19.40947364  19.29728755\n",
            "  18.98052127  18.93052677  18.79330672  18.54399817  18.40025106\n",
            "  18.10010732  18.05818019  17.99510259  17.92154616  17.73432311\n",
            "  17.57054983  17.38610045  17.27883089  16.99486129  16.83365548\n",
            "  16.73805521  16.61473421  16.493166    16.47067349  16.24184838\n",
            "  15.95854717  15.80495969  15.68012009  15.5272547   15.37676705\n",
            "  15.28172123  15.12269005  15.08080814  14.94678296  14.74709243\n",
            "  14.58926329  14.52854812  14.46697701  14.36130973  14.25979399\n",
            "  14.08889042  13.99235534  13.79792133  13.67194319  13.65899217\n",
            "  13.55045399  13.25601545  13.16556397  13.09489327  12.98100121\n",
            "  12.70897195  12.62075517  12.52942269  12.44243696  12.3118982\n",
            "  12.29784299  12.12816784  12.08039191  11.92755174  11.80592026\n",
            "  11.71042989  11.57366375  11.4606558   11.38994728  11.21360742\n",
            "  11.12300232  11.01467179  10.9674206   10.8293299   10.69177891\n",
            "  10.61480612  10.46103538  10.33045149  10.17710602  10.12469505\n",
            "  10.00284615   9.78297125   9.76860682   9.71202775   9.4207597\n",
            "   9.35997822   9.25405876   9.19390473   9.11795768   9.09192753\n",
            "   9.03312599   8.78770932   8.64631652   8.56189455   8.4596633\n",
            "   8.41976288   8.31299863   8.21922883   8.07047083   8.00433341\n",
            "   7.87236109   7.8501882    7.74516131   7.67785512   7.40747016\n",
            "   7.32523266   7.29688967   7.17823371   7.08517488   6.95211699\n",
            "   6.7375153    6.64529026   6.559186     6.48656259   6.31920162\n",
            "   6.25419947   6.1894746    6.07477193   6.00451225   5.81836906\n",
            "   5.68380181   5.66578437   5.47665758   5.33104826   5.2708661\n",
            "   5.1464457    5.00396181   4.90985287   4.79870396   4.69956102\n",
            "   4.59525886   4.56511839   4.49511216   4.21115041   4.07204262\n",
            "   4.03178912   3.8342029    3.76369503   3.70517779   3.60363924\n",
            "   3.48905769   3.27221917   2.99080912   2.76758708   2.63619018]\n"
          ]
        },
        {
          "output_type": "display_data",
          "data": {
            "text/plain": [
              "<Figure size 432x288 with 1 Axes>"
            ],
            "image/png": "[encoded data removed]"
          },
          "metadata": {
            "needs_background": "light"
          }
        },
        {
          "output_type": "stream",
          "name": "stdout",
          "text": [
            "full_sigma [30.9042905  0.         0.        ...  0.         0.         0.       ]\n"
          ]
        },
        {
          "output_type": "display_data",
          "data": {
            "text/plain": [
              "<Figure size 432x288 with 1 Axes>"
            ],
            "image/png": "[encoded data removed]"
          },
          "metadata": {
            "needs_background": "light"
          }
        },
        {
          "output_type": "stream",
          "name": "stdout",
          "text": [
            "0 error 0.9519239624740574\n",
            "0.1283277126230569\n",
            "Sigma [195.33224584  39.37572953  38.76121575  38.42218084  37.71633283\n",
            "  36.99297896  36.7266009   35.90592224  35.79096954  35.41674369\n",
            "  34.8543641   34.70376605  34.42776732  33.84573747  33.54015712\n",
            "  33.37665346  33.04419775  32.66131986  32.29042748  32.0195673\n",
            "  31.92413436  31.76770279  31.42238377  30.69151781  30.5223573\n",
            "  30.38562429  30.21761719  29.9892317   29.60910525  29.47509771\n",
            "  29.27174079  29.06569238  28.86340613  28.73334119  28.35902059\n",
            "  28.14849312  27.97435175  27.92646761  27.62344463  27.25737443\n",
            "  27.03897193  26.98327344  26.76181275  26.53635563  26.4262262\n",
            "  26.23420528  26.21474896  26.01489078  25.64263182  25.47891111\n",
            "  25.29400143  25.04523064  25.02256254  24.75111621  24.58102521\n",
            "  24.51753665  24.41501177  24.0990654   23.83179506  23.69446381\n",
            "  23.54818626  23.38689358  23.23070761  23.06184503  22.96665423\n",
            "  22.7497243   22.63145126  22.42544125  21.99802849  21.9023008\n",
            "  21.87402653  21.59594315  21.25040892  21.2033479   21.02521656\n",
            "  20.87862118  20.70243851  20.46455305  20.32792524  20.15110032\n",
            "  20.03697272  19.9430269   19.70462628  19.58277409  19.44668742\n",
            "  19.34165579  19.17165388  19.10884113  18.66488013  18.61518516\n",
            "  18.48958553  18.43137239  18.24206695  18.20115351  17.99093357\n",
            "  17.77608243  17.59192398  17.27740213  17.26129977  17.10854459\n",
            "  16.80190723  16.64185566  16.34578353  16.25015909  16.20680713\n",
            "  16.05574076  16.01751192  15.85023252  15.80722139  15.54940125\n",
            "  15.48399696  15.26295049  15.2355962   15.00803027  14.88936016\n",
            "  14.7011347   14.51501009  14.43976757  14.34399563  14.28506673\n",
            "  14.11738754  13.94939905  13.86443779  13.69120531  13.62542562\n",
            "  13.50804928  13.19884706  13.187545    13.09526313  12.93780892\n",
            "  12.8544306   12.71514772  12.48041092  12.41923115  12.21387542\n",
            "  12.1952772   12.11949219  11.92359531  11.74749532  11.59893388\n",
            "  11.39306214  11.34384385  11.25418565  11.19639345  11.02953955\n",
            "  10.84926811  10.82632055  10.64720486  10.43543286  10.36722045\n",
            "  10.06292555   9.98436073   9.88713162   9.81593809   9.77437323\n",
            "   9.6002896    9.56269155   9.36322881   9.28293439   9.16053995\n",
            "   8.99804042   8.94432068   8.86128013   8.70734268   8.63945905\n",
            "   8.49093035   8.30501407   8.19239991   8.13055977   7.86418318\n",
            "   7.83378509   7.75772849   7.53645179   7.4294689    7.33345753\n",
            "   6.96774197   6.901619     6.81111737   6.6556909    6.59712332\n",
            "   6.4391373    6.3144343    6.18851435   6.07402841   5.91726102\n",
            "   5.631861     5.49221418   5.39417891   5.22031919   5.10338727\n",
            "   5.09885247   4.97429173   4.93357872   4.71603083   4.63445431\n",
            "   4.48299439   4.25171316   3.99370132   3.75795736   3.74138807]\n"
          ]
        },
        {
          "output_type": "display_data",
          "data": {
            "text/plain": [
              "<Figure size 432x288 with 1 Axes>"
            ],
            "image/png": "[encoded data removed]"
          },
          "metadata": {
            "needs_background": "light"
          }
        },
        {
          "output_type": "stream",
          "name": "stdout",
          "text": [
            "full_sigma [25.27068438  0.          0.         ...  0.          0.\n",
            "  0.        ]\n"
          ]
        },
        {
          "output_type": "display_data",
          "data": {
            "text/plain": [
              "<Figure size 432x288 with 1 Axes>"
            ],
            "image/png": "[encoded data removed]"
          },
          "metadata": {
            "needs_background": "light"
          }
        },
        {
          "output_type": "stream",
          "name": "stdout",
          "text": [
            "1 error 0.9609177842753794\n",
            "0.008689029854213763\n",
            "Sigma [206.70453511  38.40831935  37.85264781  37.50324083  36.73231137\n",
            "  36.10599892  35.77015904  34.92565952  34.81565056  34.58219571\n",
            "  34.10822087  33.79816683  33.51936387  32.91099407  32.672108\n",
            "  32.44742999  32.14324456  31.79196257  31.43649625  31.18966362\n",
            "  31.09208604  30.85532314  30.56317675  29.87515396  29.72698457\n",
            "  29.5843874   29.32665771  29.18061257  28.73021023  28.71151907\n",
            "  28.4112244   28.34761345  28.1143029   27.94099736  27.63526386\n",
            "  27.22625478  27.1647516   27.13098697  26.89562597  26.4199794\n",
            "  26.3299475   26.18330936  26.1141578   25.80169067  25.70783624\n",
            "  25.45976648  25.42624546  25.34246456  24.92625269  24.8778664\n",
            "  24.54508188  24.37682578  24.31086805  24.01434413  23.9056159\n",
            "  23.81160868  23.6496564   23.47637864  23.10340859  22.99615142\n",
            "  22.88951767  22.80704736  22.66106075  22.35101136  22.31241245\n",
            "  22.17353259  21.97312623  21.65906897  21.47680351  21.30570698\n",
            "  21.21517246  20.89133237  20.71641065  20.60210962  20.38381737\n",
            "  20.25347142  20.23739985  19.89793407  19.80061378  19.63305389\n",
            "  19.47716754  19.42789894  19.05922265  18.97658245  18.92032377\n",
            "  18.78138264  18.56873906  18.4595333   18.18100147  18.08741741\n",
            "  17.92807891  17.79834535  17.70503068  17.62324379  17.4429352\n",
            "  17.13642985  16.99570949  16.92766447  16.75070515  16.61539694\n",
            "  16.38882456  16.15520467  15.90517272  15.72439333  15.63034398\n",
            "  15.52579169  15.48065166  15.4004724   15.32796069  15.13829473\n",
            "  15.02324936  14.77027379  14.71726872  14.54385693  14.46534923\n",
            "  14.22548423  14.1408656   14.0011078   13.93733284  13.83484016\n",
            "  13.66055889  13.51775784  13.44642252  13.33286271  13.19634547\n",
            "  13.09514589  12.99284527  12.76509278  12.65677505  12.47649559\n",
            "  12.42838314  12.30462791  12.13040963  12.00878134  11.91569679\n",
            "  11.90015665  11.64232242  11.51816733  11.37142494  11.24274723\n",
            "  11.02471571  10.95809082  10.91544652  10.83757741  10.69398122\n",
            "  10.54083841  10.52462549  10.2614706   10.10692573   9.9246272\n",
            "   9.8152877    9.76088451   9.56696488   9.49782797   9.31530588\n",
            "   9.27894294   9.15518667   9.104781     9.07863386   8.83450922\n",
            "   8.697954     8.65560366   8.59624755   8.48750354   8.32294054\n",
            "   8.25065924   8.05329785   7.86985806   7.82122997   7.68348309\n",
            "   7.49485401   7.42100734   7.29499095   7.27517698   6.98544655\n",
            "   6.72289527   6.57712419   6.5307346    6.46059554   6.35661255\n",
            "   6.27104221   6.08611192   5.915547     5.78169228   5.58362999\n",
            "   5.36423337   5.30849081   5.25980597   5.15501741   4.96448308\n",
            "   4.88596758   4.85070708   4.70846839   4.53949933   4.39636962\n",
            "   4.30202661   4.03711523   3.78511977   3.70832418   3.47700607]\n"
          ]
        },
        {
          "output_type": "display_data",
          "data": {
            "text/plain": [
              "<Figure size 432x288 with 1 Axes>"
            ],
            "image/png": "[encoded data removed]"
          },
          "metadata": {
            "needs_background": "light"
          }
        },
        {
          "output_type": "stream",
          "name": "stdout",
          "text": [
            "full_sigma [87.66144209  0.          0.         ...  0.          0.\n",
            "  0.        ]\n"
          ]
        },
        {
          "output_type": "display_data",
          "data": {
            "text/plain": [
              "<Figure size 432x288 with 1 Axes>"
            ],
            "image/png": "[encoded data removed]"
          },
          "metadata": {
            "needs_background": "light"
          }
        },
        {
          "output_type": "stream",
          "name": "stdout",
          "text": [
            "2 error 0.8644773218203907\n",
            "0.09861654740542129\n",
            "Sigma [274.10383121  32.55562061  31.8862914   31.38020855  30.85414473\n",
            "  30.39439945  29.84228345  29.59705993  29.15771574  29.08456274\n",
            "  28.64669334  28.40092468  28.19233686  27.74977973  27.35124996\n",
            "  27.30122594  27.11980756  26.78576015  26.3230564   26.20265628\n",
            "  26.0945026   25.89090867  25.68592336  25.15299584  25.03560853\n",
            "  24.84718391  24.623695    24.54088492  24.16217465  24.12181865\n",
            "  23.91138861  23.8561712   23.53762616  23.48951885  23.26931679\n",
            "  22.91496142  22.81912054  22.76878385  22.70377268  22.37380671\n",
            "  22.36001217  22.10890166  21.89931673  21.77830377  21.6359354\n",
            "  21.54510281  21.45061389  21.38817361  21.03778753  20.86269035\n",
            "  20.64205407  20.59177679  20.42358546  20.1910801   20.15674565\n",
            "  20.07533094  19.93813019  19.67165093  19.53905102  19.42466383\n",
            "  19.28132788  19.14565459  19.10346001  18.85714086  18.73940822\n",
            "  18.61961601  18.48795072  18.18970528  18.15557527  18.01040861\n",
            "  17.88609905  17.69894624  17.50007068  17.37956412  17.17510708\n",
            "  17.12502366  17.06446885  16.75972532  16.64016342  16.59391922\n",
            "  16.45190351  16.39094814  16.1037956   16.05760287  15.92397673\n",
            "  15.90165113  15.62245728  15.56325578  15.37005959  15.2786455\n",
            "  15.05527834  14.96529937  14.85407619  14.8303802   14.69604399\n",
            "  14.4335197   14.37343862  14.22898653  14.09467547  13.98065543\n",
            "  13.82455538  13.64085017  13.34982711  13.30926592  13.16414622\n",
            "  13.14941326  13.02685891  12.94289204  12.92358776  12.73044045\n",
            "  12.71503136  12.53511651  12.3616506   12.30468808  12.16326606\n",
            "  12.01843292  11.94408699  11.80500588  11.71570547  11.64545799\n",
            "  11.48152706  11.38236167  11.33456549  11.2092928   11.08985986\n",
            "  11.03766377  10.94087635  10.71553375  10.68516822  10.52827159\n",
            "  10.47958655  10.34868544  10.20780636  10.11965942  10.03444604\n",
            "  10.02256989   9.82895027   9.72360349   9.6002781    9.50201819\n",
            "   9.28942808   9.2588536    9.16169379   9.10629431   9.03803006\n",
            "   8.88423695   8.85723489   8.71655911   8.50627022   8.38215531\n",
            "   8.32307945   8.20504251   8.09755225   7.98322107   7.85505496\n",
            "   7.82040635   7.73507259   7.70891266   7.60606218   7.46819944\n",
            "   7.37571029   7.29414637   7.21129637   7.12749074   6.99969703\n",
            "   6.9579914    6.82029391   6.62899788   6.6179757    6.44922683\n",
            "   6.31148768   6.21850576   6.14636102   6.13302014   5.91646676\n",
            "   5.66488787   5.58166116   5.49164882   5.41660169   5.35905491\n",
            "   5.28074399   5.13395077   5.03372379   4.89089149   4.69217623\n",
            "   4.53355079   4.46483826   4.41534213   4.33335856   4.19712484\n",
            "   4.10259212   4.06523243   3.92688078   3.85702166   3.70670689\n",
            "   3.6218437    3.38303327   3.23592397   3.10028195   2.9221433 ]\n"
          ]
        },
        {
          "output_type": "display_data",
          "data": {
            "text/plain": [
              "<Figure size 432x288 with 1 Axes>"
            ],
            "image/png": "[encoded data removed]"
          },
          "metadata": {
            "needs_background": "light"
          }
        },
        {
          "output_type": "stream",
          "name": "stdout",
          "text": [
            "full_sigma [190.7736661   0.          0.        ...   0.          0.\n",
            "   0.       ]\n"
          ]
        },
        {
          "output_type": "display_data",
          "data": {
            "text/plain": [
              "<Figure size 432x288 with 1 Axes>"
            ],
            "image/png": "[encoded data removed]"
          },
          "metadata": {
            "needs_background": "light"
          }
        },
        {
          "output_type": "stream",
          "name": "stdout",
          "text": [
            "3 error 0.7051053993775451\n",
            "0.16209391621100455\n",
            "Sigma [365.18229364  24.75675382  24.02269216  23.28551372  23.03306607\n",
            "  22.75160279  22.46932316  22.09845677  21.91045216  21.74293976\n",
            "  21.39565207  21.25073533  21.0205997   20.84554773  20.62688329\n",
            "  20.35735     20.32618679  20.05459872  19.69430338  19.54408714\n",
            "  19.39643646  19.25641269  19.13675164  18.9573202   18.86322141\n",
            "  18.60689791  18.48909503  18.21518565  18.12467491  18.03589409\n",
            "  17.95357939  17.827443    17.60441864  17.54248683  17.43559471\n",
            "  17.33411659  17.26896236  17.05252066  16.98386573  16.88068601\n",
            "  16.75151575  16.60386437  16.44207664  16.32573085  16.32064952\n",
            "  16.18909854  16.11003486  16.0111723   15.70834335  15.55547246\n",
            "  15.48946479  15.40042633  15.2644088   15.17998593  15.09622116\n",
            "  14.99635464  14.88675195  14.755108    14.71396275  14.68397995\n",
            "  14.45827654  14.36694215  14.14443688  14.12961231  13.96351757\n",
            "  13.8994875   13.74798568  13.67981915  13.60267556  13.49573033\n",
            "  13.38770606  13.35484313  13.17278771  13.07938445  12.90590651\n",
            "  12.84354111  12.79229102  12.63171638  12.51436353  12.33892795\n",
            "  12.30613032  12.27870407  12.16718046  12.08583036  11.94120769\n",
            "  11.88818384  11.76919871  11.63550579  11.5437894   11.4583817\n",
            "  11.2755389   11.19810797  11.08158438  11.04598762  10.99985247\n",
            "  10.82619926  10.79657727  10.67117937  10.5403425   10.41053815\n",
            "  10.29850684  10.23276031  10.06208461   9.9856117    9.96316979\n",
            "   9.84105583   9.76700585   9.70596434   9.58932111   9.58028991\n",
            "   9.49477103   9.44110857   9.28177629   9.15552877   9.10813456\n",
            "   8.98474198   8.96734      8.88023311   8.75208785   8.67616565\n",
            "   8.57056072   8.51088479   8.45313477   8.34267723   8.27668749\n",
            "   8.23931854   8.14033507   8.03699227   7.98085304   7.91738907\n",
            "   7.8556276    7.69821029   7.59074286   7.587654     7.54212146\n",
            "   7.48169058   7.34736423   7.3174787    7.23336716   7.14432596\n",
            "   7.02574408   6.94235878   6.84196045   6.80441289   6.79402794\n",
            "   6.69169065   6.60087678   6.57375828   6.35299165   6.32527981\n",
            "   6.27967073   6.13035371   6.09927649   5.990297     5.8868956\n",
            "   5.88350853   5.83752901   5.76349166   5.65507631   5.58109877\n",
            "   5.55111547   5.43762672   5.36791012   5.32237522   5.22118669\n",
            "   5.16279972   5.12587627   5.01283295   4.92565557   4.77782565\n",
            "   4.75170264   4.63410275   4.58292797   4.54186986   4.43933873\n",
            "   4.30252305   4.2099717    4.13918976   4.03383399   3.9760549\n",
            "   3.93501527   3.88201439   3.7893591    3.67616677   3.53806959\n",
            "   3.41116926   3.33368605   3.28666413   3.22258292   3.14103643\n",
            "   3.10168935   2.97528036   2.95382504   2.86379626   2.76408853\n",
            "   2.67706053   2.53908267   2.47252757   2.28167402   2.17975977]\n"
          ]
        },
        {
          "output_type": "display_data",
          "data": {
            "text/plain": [
              "<Figure size 432x288 with 1 Axes>"
            ],
            "image/png": "[encoded data removed]"
          },
          "metadata": {
            "needs_background": "light"
          }
        },
        {
          "output_type": "stream",
          "name": "stdout",
          "text": [
            "full_sigma [306.85117806   0.           0.         ...   0.           0.\n",
            "   0.        ]\n"
          ]
        },
        {
          "output_type": "display_data",
          "data": {
            "text/plain": [
              "<Figure size 432x288 with 1 Axes>"
            ],
            "image/png": "[encoded data removed]"
          },
          "metadata": {
            "needs_background": "light"
          }
        },
        {
          "output_type": "stream",
          "name": "stdout",
          "text": [
            "4 error 0.5262417874252355\n",
            "0.18068127153713895\n",
            "Sigma [455.39106527  17.08269923  16.42339865  15.81730529  15.6318176\n",
            "  15.29336038  15.20734013  15.07542597  14.80807965  14.78346971\n",
            "  14.56115923  14.35499138  14.25766326  14.09018008  13.91896954\n",
            "  13.86851954  13.70471978  13.56875881  13.37015472  13.26452995\n",
            "  13.14532783  13.06572949  12.85530332  12.79203358  12.72684337\n",
            "  12.63740929  12.59211366  12.4310284   12.34373766  12.28790397\n",
            "  12.16076279  12.08633586  11.945745    11.86601193  11.83866562\n",
            "  11.7730925   11.69842897  11.56348277  11.51022535  11.44133801\n",
            "  11.37291454  11.25580592  11.14847744  11.10436856  11.00451644\n",
            "  10.94135927  10.89055867  10.74108432  10.57142653  10.47934339\n",
            "  10.4519353   10.42176788  10.31654299  10.21392574  10.19772479\n",
            "  10.1124928   10.04864507  10.03828799   9.96116077   9.94977375\n",
            "   9.75603967   9.68589674   9.50503854   9.43528086   9.38792533\n",
            "   9.28654866   9.25854546   9.17148802   9.11694084   9.09743168\n",
            "   9.07184653   8.95764527   8.91097564   8.80461525   8.73514991\n",
            "   8.63806749   8.62445123   8.52866708   8.46378928   8.33213211\n",
            "   8.31531905   8.26959042   8.15914401   8.11523545   8.0578401\n",
            "   7.98213153   7.86631085   7.81186556   7.76204212   7.71329296\n",
            "   7.63101567   7.56037188   7.4740085    7.46752837   7.32455445\n",
            "   7.27920362   7.21170623   7.18397406   7.03268      6.98383839\n",
            "   6.90448206   6.88400614   6.85576405   6.82117865   6.75774331\n",
            "   6.69297569   6.58016113   6.50010345   6.47583788   6.37917723\n",
            "   6.30788734   6.28334332   6.23816623   6.15545497   6.07504898\n",
            "   6.02809773   6.01422421   5.94772702   5.87673652   5.82959884\n",
            "   5.76443765   5.65192586   5.59431619   5.54339126   5.52111398\n",
            "   5.46774145   5.43795193   5.39061021   5.31871831   5.29913329\n",
            "   5.19848452   5.1574863    5.14879137   5.10853137   5.0370114\n",
            "   4.99668039   4.97357167   4.8992865    4.86242652   4.79171994\n",
            "   4.74229421   4.68775828   4.66797352   4.57386592   4.55750458\n",
            "   4.4950167    4.40961863   4.37306234   4.33353221   4.26270285\n",
            "   4.19065771   4.16983047   4.10177465   4.06410724   4.00781052\n",
            "   3.90390707   3.88925178   3.8585844    3.82744826   3.7631825\n",
            "   3.65762158   3.63553624   3.55012771   3.53886951   3.50991094\n",
            "   3.41787244   3.41725126   3.37551537   3.28453407   3.23371307\n",
            "   3.20504131   3.06541907   3.02594549   3.00390772   2.93467713\n",
            "   2.88250022   2.8308245    2.78948711   2.69010409   2.64892835\n",
            "   2.59623474   2.5825545    2.53158533   2.49760281   2.41280352\n",
            "   2.33083521   2.25398018   2.20137133   2.19624469   2.07771287\n",
            "   2.05116546   2.01570614   2.00274817   1.85976673   1.78553959\n",
            "   1.76321174   1.7083213    1.66059676   1.5010917    1.4533486 ]\n"
          ]
        },
        {
          "output_type": "display_data",
          "data": {
            "text/plain": [
              "<Figure size 432x288 with 1 Axes>"
            ],
            "image/png": "[encoded data removed]"
          },
          "metadata": {
            "needs_background": "light"
          }
        },
        {
          "output_type": "stream",
          "name": "stdout",
          "text": [
            "full_sigma [414.55928436   0.           0.         ...   0.           0.\n",
            "   0.        ]\n"
          ]
        },
        {
          "output_type": "display_data",
          "data": {
            "text/plain": [
              "<Figure size 432x288 with 1 Axes>"
            ],
            "image/png": "[encoded data removed]"
          },
          "metadata": {
            "needs_background": "light"
          }
        },
        {
          "output_type": "stream",
          "name": "stdout",
          "text": [
            "5 error 0.3617946732947253\n",
            "0.164678501117085\n",
            "Sigma [529.98727666  10.8722593   10.38751006  10.11699437  10.04965423\n",
            "   9.77837668   9.68516747   9.53830045   9.42401061   9.32385279\n",
            "   9.23398125   9.11868603   9.06377175   8.93099667   8.84048995\n",
            "   8.66400274   8.59724804   8.54181416   8.41082144   8.29104541\n",
            "   8.23871258   8.2036014    8.14035946   8.05902579   7.99569511\n",
            "   7.91677303   7.85985806   7.78740877   7.73918339   7.67953047\n",
            "   7.57232789   7.51467308   7.48887376   7.4073326    7.34076889\n",
            "   7.29188296   7.21895292   7.20542559   7.19331702   7.1188541\n",
            "   7.06675668   6.98831654   6.92909424   6.86753994   6.83915827\n",
            "   6.73937008   6.69674214   6.68664393   6.53726747   6.49073964\n",
            "   6.48657493   6.45507543   6.42328891   6.36314417   6.28368455\n",
            "   6.22341431   6.18133316   6.15197677   6.11962386   6.04347888\n",
            "   6.01167614   5.92358827   5.90323696   5.82458861   5.77950408\n",
            "   5.73998411   5.73001869   5.66661805   5.61584351   5.57721942\n",
            "   5.51942786   5.48297868   5.42902658   5.40542729   5.35744154\n",
            "   5.30832386   5.28283317   5.27468535   5.20996257   5.13348394\n",
            "   5.0905842    5.06353331   5.01152032   4.95086821   4.93614833\n",
            "   4.86798116   4.80054738   4.77637937   4.74186956   4.72637807\n",
            "   4.6790771    4.66317005   4.59320258   4.53670029   4.51197669\n",
            "   4.48349788   4.4060797    4.37851677   4.31453969   4.29126853\n",
            "   4.27132313   4.25907244   4.22122287   4.1435795    4.11850083\n",
            "   4.1011193    4.04064228   3.9801898    3.93987813   3.90805661\n",
            "   3.87412557   3.83541684   3.82891448   3.74592709   3.72552039\n",
            "   3.70815641   3.63354563   3.58934938   3.56866545   3.53407815\n",
            "   3.50859312   3.44711549   3.4393517    3.42598087   3.37357287\n",
            "   3.3694307    3.33443283   3.29768285   3.25455651   3.24710282\n",
            "   3.20192011   3.11947913   3.09801593   3.07392667   3.06460725\n",
            "   3.04414666   3.02601487   3.02445204   2.97987167   2.9445792\n",
            "   2.90654527   2.84644822   2.79048      2.78081058   2.77130014\n",
            "   2.74983142   2.7149304    2.67426504   2.65459844   2.59137897\n",
            "   2.5699556    2.55831117   2.5150915    2.46675374   2.42436851\n",
            "   2.41565826   2.37112857   2.35527823   2.32672907   2.3037077\n",
            "   2.27736693   2.26729089   2.23773739   2.17641425   2.1399685\n",
            "   2.12682487   2.05737941   2.01050203   1.96847014   1.92606086\n",
            "   1.92061532   1.8388621    1.83301461   1.79849218   1.76596029\n",
            "   1.73718036   1.7272509    1.67940434   1.6436029    1.62223382\n",
            "   1.59243989   1.57994999   1.5185976    1.50028372   1.48059008\n",
            "   1.46570047   1.41315652   1.36107716   1.34435228   1.25807216\n",
            "   1.24584144   1.20248938   1.19905741   1.16243043   1.14116317\n",
            "   1.06474328   1.02687128   0.95263179   0.91948279   0.88058819]\n"
          ]
        },
        {
          "output_type": "display_data",
          "data": {
            "text/plain": [
              "<Figure size 432x288 with 1 Axes>"
            ],
            "image/png": "[encoded data removed]"
          },
          "metadata": {
            "needs_background": "light"
          }
        },
        {
          "output_type": "stream",
          "name": "stdout",
          "text": [
            "full_sigma [501.40503003   0.           0.         ...   0.           0.\n",
            "   0.        ]\n"
          ]
        },
        {
          "output_type": "display_data",
          "data": {
            "text/plain": [
              "<Figure size 432x288 with 1 Axes>"
            ],
            "image/png": "[encoded data removed]"
          },
          "metadata": {
            "needs_background": "light"
          }
        },
        {
          "output_type": "stream",
          "name": "stdout",
          "text": [
            "6 error 0.23285728306296982\n",
            "0.12764069933111036\n",
            "Sigma [5.83097202e+02 8.22092293e+00 8.09066702e+00 7.55518330e+00\n",
            " 7.42687338e+00 7.22606438e+00 6.97464269e+00 6.86042487e+00\n",
            " 6.51406127e+00 6.08754303e+00 5.93100714e+00 5.63461404e+00\n",
            " 5.54139487e+00 5.50176043e+00 5.37748713e+00 5.28715998e+00\n",
            " 5.14049781e+00 5.07846459e+00 5.04337370e+00 4.98499844e+00\n",
            " 4.94738216e+00 4.90071814e+00 4.89342552e+00 4.80791645e+00\n",
            " 4.76251408e+00 4.75095198e+00 4.69311214e+00 4.65726706e+00\n",
            " 4.64336499e+00 4.56156798e+00 4.53716522e+00 4.51879026e+00\n",
            " 4.46479280e+00 4.42008877e+00 4.36147398e+00 4.35162464e+00\n",
            " 4.31029849e+00 4.30521663e+00 4.27393124e+00 4.25643663e+00\n",
            " 4.21053910e+00 4.16334315e+00 4.14412882e+00 4.11362352e+00\n",
            " 4.08079380e+00 4.02727082e+00 4.01114825e+00 3.96436383e+00\n",
            " 3.94145349e+00 3.89387868e+00 3.88035243e+00 3.85323415e+00\n",
            " 3.82875052e+00 3.81007826e+00 3.76689198e+00 3.72565307e+00\n",
            " 3.69084606e+00 3.64560566e+00 3.63867788e+00 3.61770237e+00\n",
            " 3.60299863e+00 3.54110240e+00 3.53153055e+00 3.48794459e+00\n",
            " 3.45346690e+00 3.44535109e+00 3.40832877e+00 3.39533427e+00\n",
            " 3.36985844e+00 3.34556745e+00 3.31251306e+00 3.28499530e+00\n",
            " 3.25618726e+00 3.25051502e+00 3.21202286e+00 3.16152745e+00\n",
            " 3.14778639e+00 3.13770688e+00 3.09996893e+00 3.07461295e+00\n",
            " 3.02556184e+00 3.00218376e+00 2.98112238e+00 2.97695370e+00\n",
            " 2.94149073e+00 2.91579126e+00 2.88097048e+00 2.86816315e+00\n",
            " 2.84558742e+00 2.82335454e+00 2.80464988e+00 2.79853733e+00\n",
            " 2.76534800e+00 2.75069510e+00 2.71330992e+00 2.68271355e+00\n",
            " 2.67564801e+00 2.65206666e+00 2.62497153e+00 2.60494593e+00\n",
            " 2.57078918e+00 2.54855799e+00 2.52484902e+00 2.49630657e+00\n",
            " 2.49133399e+00 2.47395348e+00 2.45040797e+00 2.40751524e+00\n",
            " 2.38656549e+00 2.35959545e+00 2.34743770e+00 2.33538144e+00\n",
            " 2.31504397e+00 2.28909588e+00 2.26772139e+00 2.24307602e+00\n",
            " 2.22292255e+00 2.21544269e+00 2.19571062e+00 2.16379789e+00\n",
            " 2.14073565e+00 2.12706062e+00 2.09936954e+00 2.08978740e+00\n",
            " 2.06470521e+00 2.05408136e+00 2.03815159e+00 2.01207838e+00\n",
            " 1.96382219e+00 1.95247323e+00 1.93053439e+00 1.92210527e+00\n",
            " 1.89559645e+00 1.88708731e+00 1.87040165e+00 1.84666156e+00\n",
            " 1.82496999e+00 1.80168215e+00 1.79231832e+00 1.77952250e+00\n",
            " 1.75133432e+00 1.74068385e+00 1.73297682e+00 1.70564340e+00\n",
            " 1.68966831e+00 1.67630623e+00 1.65737816e+00 1.62949686e+00\n",
            " 1.59339662e+00 1.58387123e+00 1.55672981e+00 1.53968059e+00\n",
            " 1.53142719e+00 1.51195781e+00 1.48977353e+00 1.47859264e+00\n",
            " 1.45789283e+00 1.45111162e+00 1.43117478e+00 1.41904856e+00\n",
            " 1.40594197e+00 1.39024720e+00 1.35466370e+00 1.32413467e+00\n",
            " 1.32244384e+00 1.31183955e+00 1.30426580e+00 1.23761164e+00\n",
            " 1.20784884e+00 1.19851615e+00 1.16150025e+00 1.14021765e+00\n",
            " 1.13370749e+00 1.10797111e+00 1.09643198e+00 1.07010391e+00\n",
            " 1.04564583e+00 1.03471554e+00 1.02092140e+00 9.92169681e-01\n",
            " 9.86011680e-01 9.47317210e-01 9.35625385e-01 9.14355793e-01\n",
            " 8.98542068e-01 8.89067329e-01 8.68876165e-01 8.34643051e-01\n",
            " 8.06974035e-01 7.92333194e-01 7.65293183e-01 7.36516448e-01\n",
            " 7.21828915e-01 7.06933818e-01 6.63175166e-01 6.39721266e-01\n",
            " 6.17779849e-01 5.87440775e-01 5.78958415e-01 5.25733198e-01]\n"
          ]
        },
        {
          "output_type": "display_data",
          "data": {
            "text/plain": [
              "<Figure size 432x288 with 1 Axes>"
            ],
            "image/png": "[encoded data removed]"
          },
          "metadata": {
            "needs_background": "light"
          }
        },
        {
          "output_type": "stream",
          "name": "stdout",
          "text": [
            "full_sigma [563.08962977   0.           0.         ...   0.           0.\n",
            "   0.        ]\n"
          ]
        },
        {
          "output_type": "display_data",
          "data": {
            "text/plain": [
              "<Figure size 432x288 with 1 Axes>"
            ],
            "image/png": "[encoded data removed]"
          },
          "metadata": {
            "needs_background": "light"
          }
        },
        {
          "output_type": "stream",
          "name": "stdout",
          "text": [
            "7 error 0.14911384929020355\n",
            "0.08144084068475566\n",
            "Sigma [6.15295681e+02 7.79479889e+00 7.69337599e+00 7.01033761e+00\n",
            " 6.93732600e+00 6.81927442e+00 6.39051235e+00 6.19414132e+00\n",
            " 5.76665733e+00 5.35477069e+00 4.08208750e+00 3.86839937e+00\n",
            " 3.79949632e+00 3.77405721e+00 3.72640908e+00 3.64859082e+00\n",
            " 3.63951775e+00 3.59435000e+00 3.58120380e+00 3.51229990e+00\n",
            " 3.49195827e+00 3.44457811e+00 3.41772977e+00 3.39440030e+00\n",
            " 3.32865758e+00 3.31809826e+00 3.30544989e+00 3.27204025e+00\n",
            " 3.24756438e+00 3.21328476e+00 3.18282554e+00 3.15152555e+00\n",
            " 3.13539332e+00 3.11613907e+00 3.09058427e+00 3.06528497e+00\n",
            " 3.04972752e+00 3.00892142e+00 2.99669313e+00 2.96895702e+00\n",
            " 2.95572096e+00 2.94470467e+00 2.91500775e+00 2.88182164e+00\n",
            " 2.85904146e+00 2.82570317e+00 2.81140489e+00 2.79146207e+00\n",
            " 2.76941043e+00 2.76283242e+00 2.74120469e+00 2.70967313e+00\n",
            " 2.70550146e+00 2.65842488e+00 2.65492160e+00 2.63920623e+00\n",
            " 2.58674285e+00 2.56702351e+00 2.55898108e+00 2.52062221e+00\n",
            " 2.51847683e+00 2.50928415e+00 2.49350150e+00 2.48772121e+00\n",
            " 2.44028112e+00 2.42777913e+00 2.41473520e+00 2.40260470e+00\n",
            " 2.38879267e+00 2.38076988e+00 2.34923805e+00 2.33157556e+00\n",
            " 2.30707519e+00 2.30161195e+00 2.26559400e+00 2.24535177e+00\n",
            " 2.23838102e+00 2.23086187e+00 2.20086569e+00 2.19145553e+00\n",
            " 2.15952134e+00 2.14361156e+00 2.12889715e+00 2.11611603e+00\n",
            " 2.10626893e+00 2.09906090e+00 2.08074800e+00 2.06050477e+00\n",
            " 2.05145921e+00 2.03676401e+00 2.01210213e+00 1.98474995e+00\n",
            " 1.95927253e+00 1.95113892e+00 1.94170602e+00 1.92003625e+00\n",
            " 1.91311723e+00 1.90319112e+00 1.89201011e+00 1.88122407e+00\n",
            " 1.85623937e+00 1.83147373e+00 1.82653975e+00 1.80201272e+00\n",
            " 1.77771556e+00 1.77031357e+00 1.75337061e+00 1.74255924e+00\n",
            " 1.73303343e+00 1.70032050e+00 1.69711725e+00 1.68414881e+00\n",
            " 1.67874085e+00 1.64840334e+00 1.62130251e+00 1.60376445e+00\n",
            " 1.58987379e+00 1.58410111e+00 1.58178108e+00 1.54852275e+00\n",
            " 1.54555085e+00 1.53224992e+00 1.51992816e+00 1.49481436e+00\n",
            " 1.47319849e+00 1.46040180e+00 1.43911811e+00 1.42957021e+00\n",
            " 1.41789398e+00 1.40919162e+00 1.39598875e+00 1.39241765e+00\n",
            " 1.37154538e+00 1.36665691e+00 1.33787040e+00 1.33112675e+00\n",
            " 1.31880745e+00 1.30717737e+00 1.29245303e+00 1.27992252e+00\n",
            " 1.27429465e+00 1.25362462e+00 1.23536583e+00 1.22344785e+00\n",
            " 1.19998249e+00 1.18264447e+00 1.17143474e+00 1.16536210e+00\n",
            " 1.15113203e+00 1.14011376e+00 1.13258581e+00 1.11158882e+00\n",
            " 1.09862175e+00 1.08973401e+00 1.07658127e+00 1.06608715e+00\n",
            " 1.04103741e+00 1.02666612e+00 1.01402780e+00 9.92220909e-01\n",
            " 9.84969872e-01 9.78213929e-01 9.63060390e-01 9.57878584e-01\n",
            " 9.22418606e-01 9.14260828e-01 9.03654402e-01 8.86850192e-01\n",
            " 8.75440802e-01 8.59365066e-01 8.58487597e-01 8.45094645e-01\n",
            " 8.38405855e-01 8.20392797e-01 7.94950806e-01 7.71666231e-01\n",
            " 7.66238685e-01 7.50765971e-01 7.41949238e-01 7.16706627e-01\n",
            " 7.11708453e-01 6.92432353e-01 6.77285839e-01 6.71252199e-01\n",
            " 6.54941763e-01 6.36314611e-01 6.33298932e-01 6.15863612e-01\n",
            " 5.92365376e-01 5.83092390e-01 5.78870726e-01 5.65994130e-01\n",
            " 5.44519061e-01 5.26030654e-01 5.11032733e-01 4.92274851e-01\n",
            " 4.61521950e-01 4.53988494e-01 4.26756287e-01 3.72128675e-01]\n"
          ]
        },
        {
          "output_type": "display_data",
          "data": {
            "text/plain": [
              "<Figure size 432x288 with 1 Axes>"
            ],
            "image/png": "[encoded data removed]"
          },
          "metadata": {
            "needs_background": "light"
          }
        },
        {
          "output_type": "stream",
          "name": "stdout",
          "text": [
            "full_sigma [601.29038045   0.           0.         ...   0.           0.\n",
            "   0.        ]\n"
          ]
        },
        {
          "output_type": "display_data",
          "data": {
            "text/plain": [
              "<Figure size 432x288 with 1 Axes>"
            ],
            "image/png": "[encoded data removed]"
          },
          "metadata": {
            "needs_background": "light"
          }
        },
        {
          "output_type": "stream",
          "name": "stdout",
          "text": [
            "8 error 0.10937908911725862\n",
            "0.037477761065672084\n",
            "Sigma [6.30844621e+02 7.76319264e+00 7.66012983e+00 6.99963758e+00\n",
            " 6.89686431e+00 6.78835493e+00 6.32102964e+00 6.09549960e+00\n",
            " 5.66190413e+00 5.29848969e+00 3.79384248e+00 3.63209967e+00\n",
            " 3.60784773e+00 3.56251055e+00 3.51840390e+00 3.43939065e+00\n",
            " 3.38775711e+00 3.36626603e+00 3.34278894e+00 3.28332771e+00\n",
            " 3.26759696e+00 3.23893892e+00 3.18936051e+00 3.16035322e+00\n",
            " 3.13059292e+00 3.11789665e+00 3.04821533e+00 3.00470915e+00\n",
            " 2.98897418e+00 2.97208239e+00 2.95627795e+00 2.93790529e+00\n",
            " 2.91947888e+00 2.87671708e+00 2.86187221e+00 2.85047999e+00\n",
            " 2.83285108e+00 2.78860352e+00 2.78454969e+00 2.76013917e+00\n",
            " 2.74043999e+00 2.71642835e+00 2.70609448e+00 2.66346113e+00\n",
            " 2.64615895e+00 2.62664508e+00 2.60090766e+00 2.57816676e+00\n",
            " 2.56954652e+00 2.53632953e+00 2.52039745e+00 2.49774715e+00\n",
            " 2.48263728e+00 2.46134298e+00 2.43580503e+00 2.43066682e+00\n",
            " 2.41354975e+00 2.37738804e+00 2.37381570e+00 2.36450693e+00\n",
            " 2.30728684e+00 2.30389087e+00 2.29176146e+00 2.25422793e+00\n",
            " 2.23796332e+00 2.22798997e+00 2.19037535e+00 2.18269133e+00\n",
            " 2.15943384e+00 2.14495839e+00 2.14003015e+00 2.11767515e+00\n",
            " 2.10899257e+00 2.09430623e+00 2.08743956e+00 2.07616679e+00\n",
            " 2.05542571e+00 2.04944559e+00 2.02560999e+00 2.01305756e+00\n",
            " 1.99946643e+00 1.98142314e+00 1.96136471e+00 1.94825579e+00\n",
            " 1.93461932e+00 1.91478966e+00 1.90119665e+00 1.87860781e+00\n",
            " 1.87206866e+00 1.85510876e+00 1.82522449e+00 1.80602156e+00\n",
            " 1.79738651e+00 1.77716344e+00 1.76602736e+00 1.75682674e+00\n",
            " 1.74248532e+00 1.72943445e+00 1.71723281e+00 1.68951118e+00\n",
            " 1.68440632e+00 1.66518560e+00 1.64412688e+00 1.63050635e+00\n",
            " 1.61923338e+00 1.61590745e+00 1.59833473e+00 1.58626354e+00\n",
            " 1.57843121e+00 1.55566434e+00 1.54050742e+00 1.53586176e+00\n",
            " 1.51275113e+00 1.50551931e+00 1.48831931e+00 1.46050172e+00\n",
            " 1.45549606e+00 1.44774524e+00 1.42165507e+00 1.41497743e+00\n",
            " 1.40805254e+00 1.38509054e+00 1.37151028e+00 1.35375076e+00\n",
            " 1.34917360e+00 1.31971894e+00 1.31538882e+00 1.29244158e+00\n",
            " 1.29048395e+00 1.27111783e+00 1.26066120e+00 1.25338625e+00\n",
            " 1.23980700e+00 1.22743797e+00 1.21958765e+00 1.21304937e+00\n",
            " 1.18464834e+00 1.16925939e+00 1.16458099e+00 1.15243582e+00\n",
            " 1.12340611e+00 1.11939968e+00 1.11321398e+00 1.10590009e+00\n",
            " 1.09746736e+00 1.07737131e+00 1.06148023e+00 1.04915820e+00\n",
            " 1.03653044e+00 1.02668907e+00 1.00054863e+00 9.89161610e-01\n",
            " 9.67824416e-01 9.63502117e-01 9.36000892e-01 9.34499955e-01\n",
            " 9.28407790e-01 9.13333933e-01 9.05149887e-01 8.95369752e-01\n",
            " 8.72922939e-01 8.69556076e-01 8.63978077e-01 8.39850646e-01\n",
            " 8.34343256e-01 8.21278595e-01 8.10478240e-01 7.85406662e-01\n",
            " 7.79344969e-01 7.71620350e-01 7.50539777e-01 7.48409027e-01\n",
            " 7.30344307e-01 7.17216619e-01 7.12837741e-01 6.94856732e-01\n",
            " 6.85730040e-01 6.63195703e-01 6.46453999e-01 6.36425784e-01\n",
            " 6.34035140e-01 6.17349392e-01 6.02104366e-01 5.97974856e-01\n",
            " 5.79601422e-01 5.68443994e-01 5.52557160e-01 5.42409944e-01\n",
            " 5.29076131e-01 5.08855397e-01 4.95987444e-01 4.80304845e-01\n",
            " 4.51994481e-01 4.43514711e-01 4.29717937e-01 4.17394334e-01\n",
            " 4.09143175e-01 3.75293042e-01 3.69188667e-01 3.46335004e-01]\n"
          ]
        },
        {
          "output_type": "display_data",
          "data": {
            "text/plain": [
              "<Figure size 432x288 with 1 Axes>"
            ],
            "image/png": "[encoded data removed]"
          },
          "metadata": {
            "needs_background": "light"
          }
        },
        {
          "output_type": "stream",
          "name": "stdout",
          "text": [
            "full_sigma [621.04091086   0.           0.         ...   0.           0.\n",
            "   0.        ]\n"
          ]
        },
        {
          "output_type": "display_data",
          "data": {
            "text/plain": [
              "<Figure size 432x288 with 1 Axes>"
            ],
            "image/png": "[encoded data removed]"
          },
          "metadata": {
            "needs_background": "light"
          }
        },
        {
          "output_type": "stream",
          "name": "stdout",
          "text": [
            "9 error 0.0982046025015038\n",
            "0.010090887037079688\n",
            "Sigma [6.35311984e+02 7.77531312e+00 7.66459298e+00 7.03207926e+00\n",
            " 6.90105137e+00 6.79679603e+00 6.32740338e+00 6.09068841e+00\n",
            " 5.66287200e+00 5.32856423e+00 3.78141609e+00 3.64941953e+00\n",
            " 3.59752985e+00 3.57565915e+00 3.52376454e+00 3.46176370e+00\n",
            " 3.41096719e+00 3.38338480e+00 3.34567028e+00 3.28532495e+00\n",
            " 3.26958709e+00 3.23558517e+00 3.19115166e+00 3.16615136e+00\n",
            " 3.14183847e+00 3.11844385e+00 3.06599489e+00 3.03195541e+00\n",
            " 3.00590091e+00 2.98024785e+00 2.95046970e+00 2.93782766e+00\n",
            " 2.89776951e+00 2.88232866e+00 2.85736409e+00 2.84880832e+00\n",
            " 2.83756154e+00 2.79819632e+00 2.78680498e+00 2.77599167e+00\n",
            " 2.74285075e+00 2.73300055e+00 2.70543132e+00 2.69021569e+00\n",
            " 2.65861928e+00 2.63530524e+00 2.62435066e+00 2.57278239e+00\n",
            " 2.55820336e+00 2.52587302e+00 2.51618596e+00 2.50606415e+00\n",
            " 2.48969894e+00 2.47696518e+00 2.45633061e+00 2.44614697e+00\n",
            " 2.42013452e+00 2.40023464e+00 2.39425937e+00 2.36310937e+00\n",
            " 2.32856663e+00 2.30708851e+00 2.29321188e+00 2.25889876e+00\n",
            " 2.23779969e+00 2.23101885e+00 2.20482606e+00 2.19201302e+00\n",
            " 2.17976561e+00 2.16425030e+00 2.15110922e+00 2.13432060e+00\n",
            " 2.11487971e+00 2.10274430e+00 2.09168167e+00 2.06932925e+00\n",
            " 2.05047581e+00 2.03958755e+00 2.03440376e+00 2.01736978e+00\n",
            " 1.99531420e+00 1.98310786e+00 1.96892222e+00 1.94988059e+00\n",
            " 1.94279904e+00 1.91684797e+00 1.90995104e+00 1.88049143e+00\n",
            " 1.87216630e+00 1.86616791e+00 1.84067117e+00 1.81538789e+00\n",
            " 1.80038853e+00 1.79755538e+00 1.78723705e+00 1.75427077e+00\n",
            " 1.74344021e+00 1.72271497e+00 1.71641726e+00 1.71459477e+00\n",
            " 1.69782218e+00 1.68601951e+00 1.67186528e+00 1.65943048e+00\n",
            " 1.63733570e+00 1.61944419e+00 1.60985528e+00 1.59517719e+00\n",
            " 1.56672529e+00 1.55646697e+00 1.54183444e+00 1.53433745e+00\n",
            " 1.52147079e+00 1.50900075e+00 1.49523044e+00 1.47220084e+00\n",
            " 1.46057341e+00 1.44979277e+00 1.44151252e+00 1.41846788e+00\n",
            " 1.39761099e+00 1.38548710e+00 1.37177640e+00 1.36497832e+00\n",
            " 1.34661520e+00 1.33070716e+00 1.30843633e+00 1.30301426e+00\n",
            " 1.29556343e+00 1.28127709e+00 1.26956186e+00 1.24763149e+00\n",
            " 1.24036025e+00 1.21278312e+00 1.20515625e+00 1.19330158e+00\n",
            " 1.18955143e+00 1.18028925e+00 1.17069244e+00 1.15214909e+00\n",
            " 1.12343585e+00 1.12039085e+00 1.11012864e+00 1.10041847e+00\n",
            " 1.08155512e+00 1.07865790e+00 1.05788124e+00 1.04196858e+00\n",
            " 1.03393222e+00 1.02711713e+00 1.01790840e+00 9.98243544e-01\n",
            " 9.95566204e-01 9.69281510e-01 9.66700304e-01 9.37701163e-01\n",
            " 9.23111295e-01 9.20513403e-01 9.07889484e-01 8.95761523e-01\n",
            " 8.85670515e-01 8.82389241e-01 8.60625233e-01 8.43558855e-01\n",
            " 8.37909377e-01 8.27996934e-01 8.07563866e-01 7.96178116e-01\n",
            " 7.78077992e-01 7.63266915e-01 7.54544087e-01 7.30422048e-01\n",
            " 7.10094895e-01 7.06795977e-01 7.03010676e-01 6.86702110e-01\n",
            " 6.79224159e-01 6.60352294e-01 6.50343090e-01 6.46959673e-01\n",
            " 6.30532788e-01 6.20133732e-01 6.04112358e-01 5.93455195e-01\n",
            " 5.71088096e-01 5.52429206e-01 5.31394041e-01 5.24973472e-01\n",
            " 5.11136548e-01 4.93143987e-01 4.87515452e-01 4.77698410e-01\n",
            " 4.73696071e-01 4.54098069e-01 4.36891949e-01 4.21004552e-01\n",
            " 4.06188175e-01 3.83958698e-01 3.71540984e-01 3.31722213e-01]\n"
          ]
        },
        {
          "output_type": "display_data",
          "data": {
            "text/plain": [
              "<Figure size 432x288 with 1 Axes>"
            ],
            "image/png": "[encoded data removed]"
          },
          "metadata": {
            "needs_background": "light"
          }
        },
        {
          "output_type": "stream",
          "name": "stdout",
          "text": [
            "full_sigma [628.44938609   0.           0.         ...   0.           0.\n",
            "   0.        ]\n"
          ]
        },
        {
          "output_type": "display_data",
          "data": {
            "text/plain": [
              "<Figure size 432x288 with 1 Axes>"
            ],
            "image/png": "[encoded data removed]"
          },
          "metadata": {
            "needs_background": "light"
          }
        },
        {
          "output_type": "stream",
          "name": "stdout",
          "text": [
            "10 error 0.09577268351199852\n",
            "0.0024411219632763967\n",
            "Sigma [6.33910667e+02 8.85246356e+00 8.57802729e+00 7.19036543e+00\n",
            " 6.90185689e+00 6.74558143e+00 6.28774210e+00 6.06326625e+00\n",
            " 5.61728049e+00 5.31258152e+00 3.67726823e+00 3.58313596e+00\n",
            " 3.51969697e+00 3.48981321e+00 3.45279161e+00 3.40385673e+00\n",
            " 3.34487851e+00 3.29951897e+00 3.24737854e+00 3.20151314e+00\n",
            " 3.18267442e+00 3.14407754e+00 3.12154344e+00 3.10275960e+00\n",
            " 3.07237878e+00 3.05778357e+00 2.99346663e+00 2.97332788e+00\n",
            " 2.93289399e+00 2.91736606e+00 2.89504950e+00 2.88696488e+00\n",
            " 2.84119835e+00 2.83273800e+00 2.79931295e+00 2.79208375e+00\n",
            " 2.78427372e+00 2.74852285e+00 2.74033749e+00 2.73595038e+00\n",
            " 2.69205876e+00 2.68337429e+00 2.66006194e+00 2.63541922e+00\n",
            " 2.60583768e+00 2.58563212e+00 2.56605970e+00 2.51943609e+00\n",
            " 2.50660621e+00 2.48572978e+00 2.46822205e+00 2.45934650e+00\n",
            " 2.43220704e+00 2.41507615e+00 2.41032707e+00 2.39098871e+00\n",
            " 2.37925662e+00 2.36652264e+00 2.33845136e+00 2.31052971e+00\n",
            " 2.28029222e+00 2.26277996e+00 2.24123119e+00 2.22977972e+00\n",
            " 2.20774844e+00 2.17484561e+00 2.17038092e+00 2.15319547e+00\n",
            " 2.14007878e+00 2.12855902e+00 2.11626195e+00 2.10943413e+00\n",
            " 2.08040759e+00 2.07328352e+00 2.05888920e+00 2.02599983e+00\n",
            " 2.01583841e+00 2.00233432e+00 1.98759955e+00 1.98461247e+00\n",
            " 1.96647583e+00 1.95417091e+00 1.94820828e+00 1.91079902e+00\n",
            " 1.89679316e+00 1.87649199e+00 1.86400499e+00 1.85608095e+00\n",
            " 1.83396583e+00 1.82514487e+00 1.80691791e+00 1.78299286e+00\n",
            " 1.77874876e+00 1.76477504e+00 1.75759479e+00 1.72378425e+00\n",
            " 1.70777872e+00 1.69136555e+00 1.68968367e+00 1.67816215e+00\n",
            " 1.66740761e+00 1.66391288e+00 1.64315086e+00 1.62422252e+00\n",
            " 1.61889111e+00 1.59457962e+00 1.58931902e+00 1.56357523e+00\n",
            " 1.54408904e+00 1.52717949e+00 1.51786394e+00 1.50584787e+00\n",
            " 1.48919026e+00 1.48453927e+00 1.45876953e+00 1.45647453e+00\n",
            " 1.44863972e+00 1.42002442e+00 1.41584796e+00 1.39359401e+00\n",
            " 1.38179806e+00 1.35807080e+00 1.34783844e+00 1.34150184e+00\n",
            " 1.31992541e+00 1.30770729e+00 1.29428282e+00 1.28062890e+00\n",
            " 1.26966976e+00 1.26318188e+00 1.24465090e+00 1.23160892e+00\n",
            " 1.22048014e+00 1.21414986e+00 1.18286574e+00 1.17363694e+00\n",
            " 1.17042264e+00 1.15499339e+00 1.15182428e+00 1.13666011e+00\n",
            " 1.10675736e+00 1.09380744e+00 1.08583327e+00 1.07312303e+00\n",
            " 1.05621877e+00 1.04541883e+00 1.03602606e+00 1.02956033e+00\n",
            " 1.02148493e+00 1.00023972e+00 9.89272517e-01 9.76685652e-01\n",
            " 9.66025417e-01 9.56046974e-01 9.54783661e-01 9.34950203e-01\n",
            " 9.14481292e-01 9.08554890e-01 8.95561462e-01 8.80723068e-01\n",
            " 8.74776112e-01 8.64829758e-01 8.57664737e-01 8.34009342e-01\n",
            " 8.29189657e-01 8.05210139e-01 8.02380160e-01 7.93033894e-01\n",
            " 7.63269244e-01 7.60150467e-01 7.42310231e-01 7.17383210e-01\n",
            " 7.08547727e-01 6.98935777e-01 6.94403364e-01 6.78983035e-01\n",
            " 6.66669251e-01 6.48672197e-01 6.44370726e-01 6.35936966e-01\n",
            " 6.33841772e-01 6.16756493e-01 5.94042868e-01 5.72848707e-01\n",
            " 5.50529740e-01 5.39627992e-01 5.27281841e-01 5.14745396e-01\n",
            " 5.08065947e-01 4.91090310e-01 4.75229761e-01 4.72191381e-01\n",
            " 4.57714161e-01 4.54199419e-01 4.35631819e-01 4.18698142e-01\n",
            " 4.01586349e-01 3.73039292e-01 3.64676847e-01 3.28064142e-01]\n"
          ]
        },
        {
          "output_type": "display_data",
          "data": {
            "text/plain": [
              "<Figure size 432x288 with 1 Axes>"
            ],
            "image/png": "[encoded data removed]"
          },
          "metadata": {
            "needs_background": "light"
          }
        },
        {
          "output_type": "stream",
          "name": "stdout",
          "text": [
            "full_sigma [629.10684888   0.           0.         ...   0.           0.\n",
            "   0.        ]\n"
          ]
        },
        {
          "output_type": "display_data",
          "data": {
            "text/plain": [
              "<Figure size 432x288 with 1 Axes>"
            ],
            "image/png": "[encoded data removed]"
          },
          "metadata": {
            "needs_background": "light"
          }
        },
        {
          "output_type": "stream",
          "name": "stdout",
          "text": [
            "11 error 0.08800647970021318\n",
            "0.009515659680711903\n",
            "Sigma [6.30605147e+02 1.19206904e+01 1.14425721e+01 9.48459196e+00\n",
            " 9.12396187e+00 8.79827262e+00 7.78264657e+00 7.39183565e+00\n",
            " 6.29199315e+00 5.66561529e+00 3.06292938e+00 3.01000899e+00\n",
            " 2.92705055e+00 2.91594050e+00 2.88877965e+00 2.84995654e+00\n",
            " 2.80070121e+00 2.75549967e+00 2.70924496e+00 2.69766740e+00\n",
            " 2.65312262e+00 2.62556148e+00 2.60680210e+00 2.59758951e+00\n",
            " 2.56785768e+00 2.52779061e+00 2.50058452e+00 2.49225721e+00\n",
            " 2.46840357e+00 2.45600353e+00 2.43987000e+00 2.41640818e+00\n",
            " 2.40262699e+00 2.39007096e+00 2.37596328e+00 2.36267303e+00\n",
            " 2.32870781e+00 2.32502047e+00 2.30564346e+00 2.29071726e+00\n",
            " 2.26361411e+00 2.24212111e+00 2.23544080e+00 2.21492442e+00\n",
            " 2.21078181e+00 2.17744197e+00 2.16318494e+00 2.14705712e+00\n",
            " 2.12456699e+00 2.11234828e+00 2.09721933e+00 2.07467835e+00\n",
            " 2.06110939e+00 2.03526744e+00 2.01452925e+00 2.00631212e+00\n",
            " 1.99797531e+00 1.98377577e+00 1.97654100e+00 1.96562147e+00\n",
            " 1.92753937e+00 1.91572283e+00 1.90876799e+00 1.88324439e+00\n",
            " 1.87626176e+00 1.85219312e+00 1.83813728e+00 1.82435864e+00\n",
            " 1.82223807e+00 1.80595056e+00 1.80129285e+00 1.78992459e+00\n",
            " 1.76972523e+00 1.76324049e+00 1.75102426e+00 1.72758657e+00\n",
            " 1.71128604e+00 1.69976042e+00 1.68683975e+00 1.67982496e+00\n",
            " 1.66367019e+00 1.64942907e+00 1.63381594e+00 1.61948027e+00\n",
            " 1.60868350e+00 1.59164730e+00 1.58059342e+00 1.57896606e+00\n",
            " 1.55933794e+00 1.53555526e+00 1.52613066e+00 1.51929182e+00\n",
            " 1.50676480e+00 1.50008514e+00 1.49189302e+00 1.47365496e+00\n",
            " 1.45929214e+00 1.44659506e+00 1.44322258e+00 1.42139374e+00\n",
            " 1.40860535e+00 1.39947425e+00 1.38386495e+00 1.36997852e+00\n",
            " 1.35926900e+00 1.35765278e+00 1.34762720e+00 1.34114293e+00\n",
            " 1.32107414e+00 1.31203083e+00 1.29124293e+00 1.28732171e+00\n",
            " 1.27409735e+00 1.27291300e+00 1.25548833e+00 1.24130274e+00\n",
            " 1.22700080e+00 1.21497284e+00 1.20447802e+00 1.18602732e+00\n",
            " 1.16985514e+00 1.16305004e+00 1.16035887e+00 1.13619971e+00\n",
            " 1.13137070e+00 1.11223058e+00 1.10935154e+00 1.09647691e+00\n",
            " 1.08105639e+00 1.07949615e+00 1.06958890e+00 1.04870328e+00\n",
            " 1.03655607e+00 1.01971962e+00 1.01349963e+00 1.00270585e+00\n",
            " 9.94447851e-01 9.86242917e-01 9.80199938e-01 9.62095245e-01\n",
            " 9.55410886e-01 9.44326052e-01 9.31584847e-01 9.19654109e-01\n",
            " 9.09117472e-01 8.97898130e-01 8.88073820e-01 8.77774196e-01\n",
            " 8.62428202e-01 8.52167880e-01 8.48128728e-01 8.35753546e-01\n",
            " 8.21996533e-01 8.13076480e-01 8.02264469e-01 7.88021978e-01\n",
            " 7.86178043e-01 7.80813228e-01 7.69307749e-01 7.58441831e-01\n",
            " 7.48785239e-01 7.43286065e-01 7.22147355e-01 7.08342581e-01\n",
            " 6.90675644e-01 6.87602026e-01 6.81259539e-01 6.72922329e-01\n",
            " 6.63657849e-01 6.54822122e-01 6.50374536e-01 6.22590348e-01\n",
            " 6.17276423e-01 6.04541665e-01 5.96247539e-01 5.88494416e-01\n",
            " 5.82846382e-01 5.70209662e-01 5.54125563e-01 5.47507723e-01\n",
            " 5.35133656e-01 5.16331198e-01 5.12197218e-01 5.02374916e-01\n",
            " 4.91435677e-01 4.69469281e-01 4.58853678e-01 4.32953066e-01\n",
            " 4.30097210e-01 4.16949207e-01 4.14712148e-01 4.08737257e-01\n",
            " 3.98480164e-01 3.78439428e-01 3.60699995e-01 3.55067648e-01\n",
            " 3.41027980e-01 3.13920317e-01 3.08468343e-01 2.87696316e-01]\n"
          ]
        },
        {
          "output_type": "display_data",
          "data": {
            "text/plain": [
              "<Figure size 432x288 with 1 Axes>"
            ],
            "image/png": "[encoded data removed]"
          },
          "metadata": {
            "needs_background": "light"
          }
        },
        {
          "output_type": "stream",
          "name": "stdout",
          "text": [
            "full_sigma [627.24247405   0.           0.         ...   0.           0.\n",
            "   0.        ]\n"
          ]
        },
        {
          "output_type": "display_data",
          "data": {
            "text/plain": [
              "<Figure size 432x288 with 1 Axes>"
            ],
            "image/png": "[encoded data removed]"
          },
          "metadata": {
            "needs_background": "light"
          }
        },
        {
          "output_type": "stream",
          "name": "stdout",
          "text": [
            "12 error 0.07438334787792675\n",
            "0.016188797297919177\n",
            "Sigma [6.27729910e+02 1.55036608e+01 1.48298383e+01 1.25882203e+01\n",
            " 1.22672690e+01 1.17104344e+01 1.02508119e+01 9.89377368e+00\n",
            " 8.08827951e+00 7.28696858e+00 2.30685224e+00 2.22587699e+00\n",
            " 2.19604862e+00 2.15513352e+00 2.13576763e+00 2.11503796e+00\n",
            " 2.08502271e+00 2.06749272e+00 2.04375347e+00 2.02261398e+00\n",
            " 1.98815546e+00 1.97137394e+00 1.95336774e+00 1.94390149e+00\n",
            " 1.92466272e+00 1.90752133e+00 1.88343216e+00 1.85973777e+00\n",
            " 1.85240278e+00 1.83890522e+00 1.83018193e+00 1.82706209e+00\n",
            " 1.81048137e+00 1.80783882e+00 1.77915064e+00 1.75896314e+00\n",
            " 1.74667246e+00 1.74051096e+00 1.73092340e+00 1.71538253e+00\n",
            " 1.69757967e+00 1.68429702e+00 1.67796076e+00 1.66182240e+00\n",
            " 1.64091539e+00 1.63557495e+00 1.61557294e+00 1.60201637e+00\n",
            " 1.59468518e+00 1.58214702e+00 1.57169105e+00 1.56234906e+00\n",
            " 1.54998388e+00 1.53721246e+00 1.52498366e+00 1.50906801e+00\n",
            " 1.49416107e+00 1.48791500e+00 1.48153628e+00 1.47842875e+00\n",
            " 1.45957463e+00 1.44695178e+00 1.44481726e+00 1.43541406e+00\n",
            " 1.41662711e+00 1.40652468e+00 1.39844222e+00 1.39546165e+00\n",
            " 1.37981053e+00 1.37571087e+00 1.35222002e+00 1.34641555e+00\n",
            " 1.33454462e+00 1.32691847e+00 1.31973510e+00 1.31000288e+00\n",
            " 1.28503077e+00 1.27610161e+00 1.25530828e+00 1.25172664e+00\n",
            " 1.24819281e+00 1.22869344e+00 1.22456191e+00 1.21299456e+00\n",
            " 1.20596565e+00 1.19658332e+00 1.19090154e+00 1.18770904e+00\n",
            " 1.17649496e+00 1.16641501e+00 1.16260622e+00 1.14637545e+00\n",
            " 1.13738042e+00 1.12598788e+00 1.11484117e+00 1.10386430e+00\n",
            " 1.09976038e+00 1.08693619e+00 1.08121203e+00 1.07086443e+00\n",
            " 1.06560318e+00 1.04982655e+00 1.04430365e+00 1.03811823e+00\n",
            " 1.02802785e+00 1.02751579e+00 1.01613475e+00 1.00127230e+00\n",
            " 9.95660853e-01 9.89236898e-01 9.85951231e-01 9.75046890e-01\n",
            " 9.59925011e-01 9.54001270e-01 9.50523320e-01 9.38303284e-01\n",
            " 9.27409148e-01 9.16435228e-01 8.99135830e-01 8.93203274e-01\n",
            " 8.87820210e-01 8.80041716e-01 8.74856969e-01 8.61812542e-01\n",
            " 8.51076809e-01 8.44604638e-01 8.41630858e-01 8.33728627e-01\n",
            " 8.30738419e-01 8.14154654e-01 8.10204794e-01 7.99715571e-01\n",
            " 7.97306523e-01 7.85747908e-01 7.79753076e-01 7.69395365e-01\n",
            " 7.62895869e-01 7.42008403e-01 7.35569426e-01 7.26904307e-01\n",
            " 7.20706722e-01 7.11100282e-01 7.01379082e-01 6.99939682e-01\n",
            " 6.97376252e-01 6.74118700e-01 6.69294347e-01 6.61103648e-01\n",
            " 6.50259284e-01 6.48006649e-01 6.41907907e-01 6.33561165e-01\n",
            " 6.32809825e-01 6.17460186e-01 6.11312429e-01 6.01030063e-01\n",
            " 5.96936456e-01 5.91217342e-01 5.80612131e-01 5.77143193e-01\n",
            " 5.67363584e-01 5.56902898e-01 5.47759501e-01 5.37705930e-01\n",
            " 5.30841132e-01 5.25443362e-01 5.22115185e-01 5.18713924e-01\n",
            " 4.96092961e-01 4.95509032e-01 4.87642088e-01 4.77193572e-01\n",
            " 4.70948889e-01 4.60514223e-01 4.51190641e-01 4.46301949e-01\n",
            " 4.39776922e-01 4.32906433e-01 4.27413679e-01 4.13337534e-01\n",
            " 4.05515969e-01 3.97218710e-01 3.92365032e-01 3.82655973e-01\n",
            " 3.75798817e-01 3.64004101e-01 3.61708512e-01 3.54314067e-01\n",
            " 3.43158545e-01 3.28777842e-01 3.20770331e-01 3.18743781e-01\n",
            " 3.07581958e-01 2.94634053e-01 2.71543724e-01 2.55303553e-01\n",
            " 2.46546526e-01 2.42280477e-01 2.23150389e-01 2.13754862e-01]\n"
          ]
        },
        {
          "output_type": "display_data",
          "data": {
            "text/plain": [
              "<Figure size 432x288 with 1 Axes>"
            ],
            "image/png": "[encoded data removed]"
          },
          "metadata": {
            "needs_background": "light"
          }
        },
        {
          "output_type": "stream",
          "name": "stdout",
          "text": [
            "full_sigma [625.37603908   0.           0.         ...   0.           0.\n",
            "   0.        ]\n"
          ]
        },
        {
          "output_type": "display_data",
          "data": {
            "text/plain": [
              "<Figure size 432x288 with 1 Axes>"
            ],
            "image/png": "[encoded data removed]"
          },
          "metadata": {
            "needs_background": "light"
          }
        },
        {
          "output_type": "stream",
          "name": "stdout",
          "text": [
            "13 error 0.058838264872555335\n",
            "0.017527133600943774\n",
            "Sigma [6.26207965e+02 1.86162037e+01 1.78128149e+01 1.56032585e+01\n",
            " 1.52579176e+01 1.45138220e+01 1.27957709e+01 1.26449014e+01\n",
            " 1.02057224e+01 9.41588525e+00 1.63035072e+00 1.56702877e+00\n",
            " 1.53876399e+00 1.52539377e+00 1.50822191e+00 1.48332301e+00\n",
            " 1.46841857e+00 1.46265107e+00 1.44015948e+00 1.42182615e+00\n",
            " 1.41248802e+00 1.39412960e+00 1.38117043e+00 1.37599762e+00\n",
            " 1.36847755e+00 1.35836523e+00 1.34978187e+00 1.34010184e+00\n",
            " 1.32699871e+00 1.31891756e+00 1.30870557e+00 1.29493574e+00\n",
            " 1.28851697e+00 1.27277094e+00 1.25341616e+00 1.24816792e+00\n",
            " 1.23821871e+00 1.22974661e+00 1.22050494e+00 1.20769739e+00\n",
            " 1.19945120e+00 1.19280732e+00 1.18988592e+00 1.17145841e+00\n",
            " 1.16401560e+00 1.14868497e+00 1.13970498e+00 1.13788656e+00\n",
            " 1.13217517e+00 1.12068701e+00 1.11139675e+00 1.10552883e+00\n",
            " 1.09049934e+00 1.08241255e+00 1.06844194e+00 1.06524550e+00\n",
            " 1.05745527e+00 1.05299520e+00 1.04508715e+00 1.03557884e+00\n",
            " 1.03007048e+00 1.02748921e+00 1.01603739e+00 1.00378353e+00\n",
            " 9.94255899e-01 9.91265392e-01 9.82980417e-01 9.71199304e-01\n",
            " 9.65548459e-01 9.55359434e-01 9.51858024e-01 9.46762145e-01\n",
            " 9.37278823e-01 9.35470848e-01 9.18567034e-01 9.09572354e-01\n",
            " 9.04038335e-01 8.96980231e-01 8.84669511e-01 8.78568813e-01\n",
            " 8.76740237e-01 8.73419209e-01 8.71562305e-01 8.65563718e-01\n",
            " 8.60494359e-01 8.48351025e-01 8.41762176e-01 8.29533156e-01\n",
            " 8.26306326e-01 8.17312932e-01 8.08420868e-01 8.04618396e-01\n",
            " 8.02742062e-01 7.93097091e-01 7.83752904e-01 7.76836030e-01\n",
            " 7.69243746e-01 7.63949506e-01 7.62404068e-01 7.53397185e-01\n",
            " 7.47799282e-01 7.41716760e-01 7.33182091e-01 7.22625978e-01\n",
            " 7.21722876e-01 7.15386468e-01 7.11124361e-01 7.03066797e-01\n",
            " 6.93477975e-01 6.88375149e-01 6.83229737e-01 6.78570067e-01\n",
            " 6.71130591e-01 6.62826361e-01 6.57687472e-01 6.51674357e-01\n",
            " 6.44596133e-01 6.35912310e-01 6.35092090e-01 6.32369848e-01\n",
            " 6.17499793e-01 6.14710600e-01 6.08967517e-01 6.02519061e-01\n",
            " 6.00002787e-01 5.95054557e-01 5.90714675e-01 5.81314442e-01\n",
            " 5.79729467e-01 5.76541610e-01 5.71947129e-01 5.63034647e-01\n",
            " 5.61161930e-01 5.55013036e-01 5.46721021e-01 5.40718041e-01\n",
            " 5.33771904e-01 5.28447803e-01 5.21252645e-01 5.15061042e-01\n",
            " 5.10683728e-01 5.04317233e-01 5.01223022e-01 4.92702575e-01\n",
            " 4.84381497e-01 4.81407693e-01 4.80331297e-01 4.69713177e-01\n",
            " 4.66904953e-01 4.52757278e-01 4.50406951e-01 4.49187750e-01\n",
            " 4.44424068e-01 4.40312468e-01 4.35632919e-01 4.31280677e-01\n",
            " 4.19565355e-01 4.15992278e-01 4.10765635e-01 4.03046618e-01\n",
            " 3.99571112e-01 3.95739520e-01 3.87478178e-01 3.82099420e-01\n",
            " 3.77210495e-01 3.75378212e-01 3.65706108e-01 3.58561187e-01\n",
            " 3.57295685e-01 3.49511560e-01 3.46487082e-01 3.39260217e-01\n",
            " 3.35881002e-01 3.27567316e-01 3.24206704e-01 3.16434698e-01\n",
            " 3.12297201e-01 2.98765139e-01 2.92002909e-01 2.90086710e-01\n",
            " 2.83576841e-01 2.78530587e-01 2.71142416e-01 2.64594602e-01\n",
            " 2.61176991e-01 2.53485926e-01 2.51118675e-01 2.44170986e-01\n",
            " 2.37606494e-01 2.31739371e-01 2.23884703e-01 2.15132269e-01\n",
            " 2.09793561e-01 2.02457979e-01 1.98509302e-01 1.90367399e-01\n",
            " 1.83617642e-01 1.77620529e-01 1.67214995e-01 1.50671021e-01]\n"
          ]
        },
        {
          "output_type": "display_data",
          "data": {
            "text/plain": [
              "<Figure size 432x288 with 1 Axes>"
            ],
            "image/png": "[encoded data removed]"
          },
          "metadata": {
            "needs_background": "light"
          }
        },
        {
          "output_type": "stream",
          "name": "stdout",
          "text": [
            "full_sigma [624.56025503   0.           0.         ...   0.           0.\n",
            "   0.        ]\n"
          ]
        },
        {
          "output_type": "display_data",
          "data": {
            "text/plain": [
              "<Figure size 432x288 with 1 Axes>"
            ],
            "image/png": "[encoded data removed]"
          },
          "metadata": {
            "needs_background": "light"
          }
        },
        {
          "output_type": "stream",
          "name": "stdout",
          "text": [
            "14 error 0.044452439149704245\n",
            "0.015134828706556639\n",
            "Sigma [6.26045199e+02 2.08763832e+01 2.00322887e+01 1.80962975e+01\n",
            " 1.75599660e+01 1.67549029e+01 1.50769751e+01 1.49421150e+01\n",
            " 1.21484979e+01 1.15160594e+01 1.11601121e+00 1.09047783e+00\n",
            " 1.08161949e+00 1.04725568e+00 1.04355205e+00 1.02523824e+00\n",
            " 1.01899424e+00 1.00593632e+00 9.95092296e-01 9.89837859e-01\n",
            " 9.79462742e-01 9.70058603e-01 9.65363762e-01 9.54777172e-01\n",
            " 9.50059052e-01 9.37283022e-01 9.28627127e-01 9.21159255e-01\n",
            " 9.19688656e-01 9.02865772e-01 8.97787849e-01 8.92633349e-01\n",
            " 8.83533682e-01 8.76177947e-01 8.71327831e-01 8.64267936e-01\n",
            " 8.60852972e-01 8.55033252e-01 8.42112547e-01 8.38773599e-01\n",
            " 8.30624060e-01 8.23480416e-01 8.14957688e-01 8.03199539e-01\n",
            " 7.99261459e-01 7.94386656e-01 7.86968824e-01 7.73742499e-01\n",
            " 7.71264762e-01 7.68479572e-01 7.61381807e-01 7.58808564e-01\n",
            " 7.53393239e-01 7.44251635e-01 7.37588723e-01 7.30693832e-01\n",
            " 7.28642355e-01 7.23628608e-01 7.13407814e-01 7.05162073e-01\n",
            " 7.03648477e-01 7.00459003e-01 6.90110958e-01 6.85177341e-01\n",
            " 6.79340425e-01 6.77847830e-01 6.71484824e-01 6.67549070e-01\n",
            " 6.58195046e-01 6.54358251e-01 6.48718556e-01 6.42807013e-01\n",
            " 6.34742779e-01 6.27896894e-01 6.26213426e-01 6.23395656e-01\n",
            " 6.16498229e-01 6.14599476e-01 6.09703223e-01 6.03849714e-01\n",
            " 6.01377795e-01 5.96282562e-01 5.87255894e-01 5.83696098e-01\n",
            " 5.79943646e-01 5.74257345e-01 5.73331806e-01 5.67108229e-01\n",
            " 5.58851548e-01 5.56156157e-01 5.51577111e-01 5.45960436e-01\n",
            " 5.43279672e-01 5.37823164e-01 5.36372420e-01 5.31723964e-01\n",
            " 5.25262871e-01 5.19150805e-01 5.16260557e-01 5.13116436e-01\n",
            " 5.06274641e-01 5.00580826e-01 4.96905092e-01 4.93706804e-01\n",
            " 4.87188699e-01 4.84116432e-01 4.79632952e-01 4.77983023e-01\n",
            " 4.74649170e-01 4.69626412e-01 4.67333741e-01 4.60166203e-01\n",
            " 4.57581238e-01 4.52490382e-01 4.50609271e-01 4.48812065e-01\n",
            " 4.42384270e-01 4.38827746e-01 4.34983101e-01 4.29880009e-01\n",
            " 4.25132552e-01 4.22612235e-01 4.13666041e-01 4.09692665e-01\n",
            " 4.05483648e-01 4.03076377e-01 3.98852231e-01 3.96305050e-01\n",
            " 3.91554949e-01 3.90976844e-01 3.86355267e-01 3.82181929e-01\n",
            " 3.79540961e-01 3.73329208e-01 3.65361620e-01 3.60667009e-01\n",
            " 3.60386543e-01 3.57039250e-01 3.53325422e-01 3.49945993e-01\n",
            " 3.44857605e-01 3.43222645e-01 3.39965244e-01 3.35283083e-01\n",
            " 3.33147777e-01 3.28364173e-01 3.24442791e-01 3.20102355e-01\n",
            " 3.14582652e-01 3.10790562e-01 3.07484045e-01 3.01145396e-01\n",
            " 2.99009776e-01 2.95826321e-01 2.88596262e-01 2.86485284e-01\n",
            " 2.85064434e-01 2.81538042e-01 2.76430356e-01 2.72308349e-01\n",
            " 2.71123062e-01 2.67094368e-01 2.63574133e-01 2.62750879e-01\n",
            " 2.56361144e-01 2.51073110e-01 2.48429688e-01 2.46202369e-01\n",
            " 2.38629229e-01 2.36125963e-01 2.34253516e-01 2.31460515e-01\n",
            " 2.25793001e-01 2.25040228e-01 2.19012547e-01 2.14318572e-01\n",
            " 2.13838537e-01 2.06812944e-01 2.03355868e-01 1.98712062e-01\n",
            " 1.98017904e-01 1.94723126e-01 1.86618555e-01 1.82784545e-01\n",
            " 1.77352265e-01 1.75259049e-01 1.65078478e-01 1.60938284e-01\n",
            " 1.58655647e-01 1.53868497e-01 1.50964861e-01 1.47848191e-01\n",
            " 1.40813625e-01 1.39796873e-01 1.33817637e-01 1.30205915e-01\n",
            " 1.23754423e-01 1.16137321e-01 1.15005553e-01 1.06237090e-01]\n"
          ]
        },
        {
          "output_type": "display_data",
          "data": {
            "text/plain": [
              "<Figure size 432x288 with 1 Axes>"
            ],
            "image/png": "[encoded data removed]"
          },
          "metadata": {
            "needs_background": "light"
          }
        },
        {
          "output_type": "stream",
          "name": "stdout",
          "text": [
            "full_sigma [624.89180251   0.           0.         ...   0.           0.\n",
            "   0.        ]\n"
          ]
        },
        {
          "output_type": "display_data",
          "data": {
            "text/plain": [
              "<Figure size 432x288 with 1 Axes>"
            ],
            "image/png": "[encoded data removed]"
          },
          "metadata": {
            "needs_background": "light"
          }
        },
        {
          "output_type": "stream",
          "name": "stdout",
          "text": [
            "15 error 0.032521660229672844\n",
            "0.011540185258758823\n",
            "Sigma [6.26822404e+02 2.23120286e+01 2.14971149e+01 1.98806779e+01\n",
            " 1.91475100e+01 1.83436573e+01 1.69459221e+01 1.65561784e+01\n",
            " 1.37024037e+01 1.32983927e+01 7.64165738e-01 7.55227042e-01\n",
            " 7.42419251e-01 7.28451942e-01 7.14947946e-01 7.11392289e-01\n",
            " 6.96861326e-01 6.89443038e-01 6.87756565e-01 6.76816348e-01\n",
            " 6.75565293e-01 6.67489842e-01 6.61002868e-01 6.55160572e-01\n",
            " 6.47066529e-01 6.36861118e-01 6.32693630e-01 6.30670255e-01\n",
            " 6.20400817e-01 6.15376405e-01 6.11142545e-01 6.07086151e-01\n",
            " 5.99825467e-01 5.92350402e-01 5.91094833e-01 5.87977510e-01\n",
            " 5.81476976e-01 5.73229423e-01 5.72845154e-01 5.69696113e-01\n",
            " 5.61031946e-01 5.59695031e-01 5.51819730e-01 5.43295789e-01\n",
            " 5.38121146e-01 5.33663455e-01 5.28173513e-01 5.23744124e-01\n",
            " 5.22156800e-01 5.18705080e-01 5.17137329e-01 5.14587745e-01\n",
            " 5.11896629e-01 5.06426920e-01 5.00143828e-01 4.96507673e-01\n",
            " 4.91784424e-01 4.87710183e-01 4.84043939e-01 4.80884760e-01\n",
            " 4.75689633e-01 4.73013436e-01 4.70940841e-01 4.69710609e-01\n",
            " 4.62129592e-01 4.60250874e-01 4.56148478e-01 4.53538667e-01\n",
            " 4.47687559e-01 4.45228779e-01 4.40029747e-01 4.34561307e-01\n",
            " 4.32762410e-01 4.30569854e-01 4.30025016e-01 4.26677905e-01\n",
            " 4.12870605e-01 4.10050336e-01 4.07202897e-01 4.05174430e-01\n",
            " 4.01316076e-01 4.00806658e-01 3.97723726e-01 3.90440996e-01\n",
            " 3.89675500e-01 3.88376975e-01 3.85324998e-01 3.83601293e-01\n",
            " 3.80124708e-01 3.79317337e-01 3.71351674e-01 3.70720914e-01\n",
            " 3.66281919e-01 3.61581154e-01 3.60452026e-01 3.56751852e-01\n",
            " 3.49964966e-01 3.49486290e-01 3.44135658e-01 3.43862315e-01\n",
            " 3.40641271e-01 3.34940049e-01 3.33156682e-01 3.30395166e-01\n",
            " 3.27893668e-01 3.25223750e-01 3.24962798e-01 3.22369625e-01\n",
            " 3.18400915e-01 3.14125959e-01 3.13912737e-01 3.11114798e-01\n",
            " 3.08398699e-01 3.05536964e-01 3.03449126e-01 2.98677318e-01\n",
            " 2.95304321e-01 2.94350621e-01 2.89988424e-01 2.86870130e-01\n",
            " 2.84355787e-01 2.81731880e-01 2.77046872e-01 2.73593081e-01\n",
            " 2.72966958e-01 2.72088040e-01 2.64875695e-01 2.64289530e-01\n",
            " 2.62734487e-01 2.59660278e-01 2.57634950e-01 2.55778785e-01\n",
            " 2.52907630e-01 2.50170798e-01 2.47741114e-01 2.46117134e-01\n",
            " 2.43055200e-01 2.39244544e-01 2.35626563e-01 2.33811188e-01\n",
            " 2.30339768e-01 2.28140550e-01 2.26020039e-01 2.23977562e-01\n",
            " 2.22365736e-01 2.19736245e-01 2.16129751e-01 2.11933908e-01\n",
            " 2.10293291e-01 2.08150253e-01 2.07624573e-01 2.03477183e-01\n",
            " 2.00712678e-01 1.97311943e-01 1.95426966e-01 1.93528961e-01\n",
            " 1.91483126e-01 1.87610392e-01 1.84297465e-01 1.81972810e-01\n",
            " 1.78509400e-01 1.77739804e-01 1.73470780e-01 1.71633250e-01\n",
            " 1.70917508e-01 1.66696420e-01 1.64090283e-01 1.61353103e-01\n",
            " 1.59485666e-01 1.57350612e-01 1.52477250e-01 1.51579385e-01\n",
            " 1.50354054e-01 1.45919967e-01 1.44090232e-01 1.41686349e-01\n",
            " 1.38035151e-01 1.35872432e-01 1.32079717e-01 1.28560024e-01\n",
            " 1.27555028e-01 1.26841562e-01 1.23582570e-01 1.22009649e-01\n",
            " 1.15719731e-01 1.13526656e-01 1.12267097e-01 1.09901355e-01\n",
            " 1.06412133e-01 1.03501666e-01 1.02182600e-01 9.85332135e-02\n",
            " 9.56580553e-02 9.34472540e-02 9.05679220e-02 8.48593849e-02\n",
            " 8.33974618e-02 7.91187817e-02 7.70231129e-02 7.02183748e-02]\n"
          ]
        },
        {
          "output_type": "display_data",
          "data": {
            "text/plain": [
              "<Figure size 432x288 with 1 Axes>"
            ],
            "image/png": "[encoded data removed]"
          },
          "metadata": {
            "needs_background": "light"
          }
        },
        {
          "output_type": "stream",
          "name": "stdout",
          "text": [
            "full_sigma [626.01502675   0.           0.         ...   0.           0.\n",
            "   0.        ]\n"
          ]
        },
        {
          "output_type": "display_data",
          "data": {
            "text/plain": [
              "<Figure size 432x288 with 1 Axes>"
            ],
            "image/png": "[encoded data removed]"
          },
          "metadata": {
            "needs_background": "light"
          }
        },
        {
          "output_type": "stream",
          "name": "stdout",
          "text": [
            "16 error 0.023181515702909383\n",
            "0.00824284683276993\n",
            "Sigma [6.28045104e+02 2.31297621e+01 2.23735824e+01 2.10041042e+01\n",
            " 2.01612891e+01 1.93748194e+01 1.82369461e+01 1.76691365e+01\n",
            " 1.48363980e+01 1.46526266e+01 5.29914325e-01 5.20866823e-01\n",
            " 5.13150087e-01 5.01200632e-01 4.93090749e-01 4.84935261e-01\n",
            " 4.79786474e-01 4.75166786e-01 4.67818695e-01 4.64978535e-01\n",
            " 4.62655473e-01 4.57022243e-01 4.51027809e-01 4.45255141e-01\n",
            " 4.41708112e-01 4.32917509e-01 4.25847508e-01 4.23459808e-01\n",
            " 4.19811842e-01 4.16059866e-01 4.13996829e-01 4.11987349e-01\n",
            " 4.05029424e-01 4.04523869e-01 4.00235323e-01 3.98377805e-01\n",
            " 3.92696209e-01 3.90895069e-01 3.86618470e-01 3.81224303e-01\n",
            " 3.79916057e-01 3.78146541e-01 3.72323510e-01 3.68447784e-01\n",
            " 3.65453777e-01 3.60967434e-01 3.60193671e-01 3.58843536e-01\n",
            " 3.54967708e-01 3.50398424e-01 3.48419007e-01 3.46035508e-01\n",
            " 3.44355520e-01 3.36639064e-01 3.35108287e-01 3.33834124e-01\n",
            " 3.27588430e-01 3.26666107e-01 3.24629876e-01 3.21376574e-01\n",
            " 3.18759608e-01 3.16369756e-01 3.12560448e-01 3.10576251e-01\n",
            " 3.06872975e-01 3.05702532e-01 3.03894813e-01 3.00320852e-01\n",
            " 3.00112648e-01 2.98721465e-01 2.96952664e-01 2.92781005e-01\n",
            " 2.89236327e-01 2.88409322e-01 2.83922804e-01 2.82484520e-01\n",
            " 2.80742876e-01 2.78445852e-01 2.76215473e-01 2.75680589e-01\n",
            " 2.71432878e-01 2.67741942e-01 2.64006409e-01 2.60855815e-01\n",
            " 2.59449133e-01 2.58280318e-01 2.55992887e-01 2.54216259e-01\n",
            " 2.52688685e-01 2.50372175e-01 2.47171793e-01 2.45852374e-01\n",
            " 2.44190267e-01 2.40763135e-01 2.37563122e-01 2.36327734e-01\n",
            " 2.32871402e-01 2.30390140e-01 2.29314859e-01 2.29228103e-01\n",
            " 2.27935250e-01 2.25779590e-01 2.21704510e-01 2.20527105e-01\n",
            " 2.20118441e-01 2.16818693e-01 2.15036480e-01 2.12712814e-01\n",
            " 2.12162011e-01 2.11074053e-01 2.07387505e-01 2.06067843e-01\n",
            " 2.02105161e-01 2.00257115e-01 1.99327871e-01 1.97398406e-01\n",
            " 1.96151184e-01 1.95099396e-01 1.93236754e-01 1.90941898e-01\n",
            " 1.89401576e-01 1.86837768e-01 1.85074583e-01 1.84638739e-01\n",
            " 1.83691285e-01 1.79288131e-01 1.78395065e-01 1.77524143e-01\n",
            " 1.76690929e-01 1.73307166e-01 1.71549956e-01 1.70215558e-01\n",
            " 1.67872000e-01 1.65949005e-01 1.64192667e-01 1.60547263e-01\n",
            " 1.59669518e-01 1.57767409e-01 1.56067771e-01 1.53083234e-01\n",
            " 1.51346152e-01 1.48819885e-01 1.48057482e-01 1.45533487e-01\n",
            " 1.44804973e-01 1.42257208e-01 1.40897978e-01 1.40796055e-01\n",
            " 1.38555259e-01 1.36113732e-01 1.34637219e-01 1.32493754e-01\n",
            " 1.30263358e-01 1.28613037e-01 1.26893348e-01 1.25577377e-01\n",
            " 1.25495030e-01 1.22848933e-01 1.21517189e-01 1.20281926e-01\n",
            " 1.19531828e-01 1.16554417e-01 1.15187394e-01 1.14002809e-01\n",
            " 1.12048004e-01 1.11457889e-01 1.08918703e-01 1.06369038e-01\n",
            " 1.05644458e-01 1.03199545e-01 9.97734336e-02 9.91653496e-02\n",
            " 9.72386071e-02 9.60213868e-02 9.42941666e-02 9.35099590e-02\n",
            " 9.17847891e-02 9.07837976e-02 8.91462662e-02 8.85127634e-02\n",
            " 8.60500877e-02 8.38030309e-02 8.22714297e-02 8.00066945e-02\n",
            " 7.86316935e-02 7.75604852e-02 7.55990993e-02 7.19897790e-02\n",
            " 7.11284606e-02 6.98037984e-02 6.80156039e-02 6.42629593e-02\n",
            " 6.20599470e-02 6.10198071e-02 5.83596044e-02 5.75863108e-02\n",
            " 5.54926719e-02 5.17135281e-02 4.87285264e-02 4.66507259e-02]\n"
          ]
        },
        {
          "output_type": "display_data",
          "data": {
            "text/plain": [
              "<Figure size 432x288 with 1 Axes>"
            ],
            "image/png": "[encoded data removed]"
          },
          "metadata": {
            "needs_background": "light"
          }
        },
        {
          "output_type": "stream",
          "name": "stdout",
          "text": [
            "full_sigma [627.47993954   0.           0.         ...   0.           0.\n",
            "   0.        ]\n"
          ]
        },
        {
          "output_type": "display_data",
          "data": {
            "text/plain": [
              "<Figure size 432x288 with 1 Axes>"
            ],
            "image/png": "[encoded data removed]"
          },
          "metadata": {
            "needs_background": "light"
          }
        },
        {
          "output_type": "stream",
          "name": "stdout",
          "text": [
            "17 error 0.01613790550520147\n",
            "0.005667956915512565\n",
            "Sigma [6.29324988e+02 2.35556404e+01 2.28490458e+01 2.16206079e+01\n",
            " 2.07712913e+01 2.00004512e+01 1.90388045e+01 1.83818105e+01\n",
            " 1.56514312e+01 1.55408755e+01 3.78259840e-01 3.62120973e-01\n",
            " 3.61440655e-01 3.51223392e-01 3.43373027e-01 3.37822059e-01\n",
            " 3.36287365e-01 3.31773580e-01 3.22876805e-01 3.19449295e-01\n",
            " 3.16739339e-01 3.10806148e-01 3.08823372e-01 3.04934604e-01\n",
            " 2.99478265e-01 2.97377474e-01 2.96179618e-01 2.93662900e-01\n",
            " 2.90963078e-01 2.86820635e-01 2.83104522e-01 2.79550682e-01\n",
            " 2.78867827e-01 2.77492167e-01 2.74028321e-01 2.69672527e-01\n",
            " 2.67797041e-01 2.66952478e-01 2.64584665e-01 2.63095569e-01\n",
            " 2.58454283e-01 2.55785420e-01 2.52694424e-01 2.50320247e-01\n",
            " 2.49382919e-01 2.46676633e-01 2.45543937e-01 2.44818095e-01\n",
            " 2.42982381e-01 2.41942218e-01 2.37682075e-01 2.35328038e-01\n",
            " 2.34432220e-01 2.31832086e-01 2.28237171e-01 2.26138509e-01\n",
            " 2.24068593e-01 2.21359445e-01 2.19999086e-01 2.19184484e-01\n",
            " 2.15823850e-01 2.14472946e-01 2.13703858e-01 2.11238913e-01\n",
            " 2.10632468e-01 2.08352934e-01 2.06724100e-01 2.03231604e-01\n",
            " 2.02788220e-01 2.01509596e-01 1.99004998e-01 1.98065250e-01\n",
            " 1.96542878e-01 1.95970900e-01 1.92253428e-01 1.90218229e-01\n",
            " 1.89654144e-01 1.86600386e-01 1.84361780e-01 1.82622517e-01\n",
            " 1.82244906e-01 1.81019783e-01 1.78963693e-01 1.78173500e-01\n",
            " 1.75357447e-01 1.74004927e-01 1.73032293e-01 1.71020714e-01\n",
            " 1.68492805e-01 1.67408117e-01 1.66085985e-01 1.65963463e-01\n",
            " 1.62882417e-01 1.61830005e-01 1.60062197e-01 1.59535673e-01\n",
            " 1.58396672e-01 1.57156037e-01 1.56908032e-01 1.53862370e-01\n",
            " 1.53093009e-01 1.50928002e-01 1.49000574e-01 1.48711519e-01\n",
            " 1.47364942e-01 1.46210490e-01 1.45376596e-01 1.44791981e-01\n",
            " 1.43073083e-01 1.41963259e-01 1.40051388e-01 1.37647644e-01\n",
            " 1.36889130e-01 1.35687388e-01 1.34068718e-01 1.32433083e-01\n",
            " 1.30786886e-01 1.29990253e-01 1.29338021e-01 1.27417942e-01\n",
            " 1.26466944e-01 1.24260737e-01 1.23482493e-01 1.20787075e-01\n",
            " 1.20530933e-01 1.18938518e-01 1.17926917e-01 1.16882000e-01\n",
            " 1.15240678e-01 1.14194260e-01 1.13872290e-01 1.12288741e-01\n",
            " 1.11750381e-01 1.10811604e-01 1.10040216e-01 1.08777729e-01\n",
            " 1.07408635e-01 1.05510031e-01 1.04510057e-01 1.03552082e-01\n",
            " 1.02715022e-01 1.01018388e-01 9.96904419e-02 9.91322768e-02\n",
            " 9.75902111e-02 9.69298520e-02 9.64935747e-02 9.43900166e-02\n",
            " 9.38179067e-02 9.06263012e-02 9.02789111e-02 8.94856784e-02\n",
            " 8.87104221e-02 8.68559400e-02 8.66403669e-02 8.40576887e-02\n",
            " 8.30107889e-02 8.23214001e-02 8.19100771e-02 8.11242958e-02\n",
            " 8.03003013e-02 7.89456573e-02 7.70635639e-02 7.67878086e-02\n",
            " 7.52063860e-02 7.43295861e-02 7.27889633e-02 7.22912734e-02\n",
            " 7.07106058e-02 6.93885148e-02 6.90015252e-02 6.75949750e-02\n",
            " 6.59472474e-02 6.46165913e-02 6.36905838e-02 6.34023961e-02\n",
            " 6.31283212e-02 6.19381350e-02 5.87344927e-02 5.80036196e-02\n",
            " 5.59608249e-02 5.57027654e-02 5.44791760e-02 5.32877769e-02\n",
            " 5.24344613e-02 5.10708984e-02 4.98841546e-02 4.94167330e-02\n",
            " 4.79335656e-02 4.62904610e-02 4.48713149e-02 4.28320495e-02\n",
            " 4.23818609e-02 4.14292670e-02 3.93869171e-02 3.91083906e-02\n",
            " 3.56936356e-02 3.46850994e-02 3.34205069e-02 3.14796317e-02]\n"
          ]
        },
        {
          "output_type": "display_data",
          "data": {
            "text/plain": [
              "<Figure size 432x288 with 1 Axes>"
            ],
            "image/png": "[encoded data removed]"
          },
          "metadata": {
            "needs_background": "light"
          }
        },
        {
          "output_type": "stream",
          "name": "stdout",
          "text": [
            "full_sigma [628.92937323   0.           0.         ...   0.           0.\n",
            "   0.        ]\n"
          ]
        },
        {
          "output_type": "display_data",
          "data": {
            "text/plain": [
              "<Figure size 432x288 with 1 Axes>"
            ],
            "image/png": "[encoded data removed]"
          },
          "metadata": {
            "needs_background": "light"
          }
        },
        {
          "output_type": "stream",
          "name": "stdout",
          "text": [
            "18 error 0.011057114139962274\n",
            "0.0037171009656570574\n",
            "13.56132197380066\n"
          ]
        }
      ]
    },
    {
      "cell_type": "code",
      "source": [
        "np.linalg.matrix_rank(X_new)"
      ],
      "metadata": {
        "colab": {
          "base_uri": "https://localhost:8080/"
        },
        "id": "sUVgSCTwc6NB",
        "outputId": "7ac354cd-f6fe-409c-cd9f-884c6a022c42"
      },
      "execution_count": null,
      "outputs": [
        {
          "output_type": "execute_result",
          "data": {
            "text/plain": [
              "1"
            ]
          },
          "metadata": {},
          "execution_count": 107
        }
      ]
    }
  ]
}